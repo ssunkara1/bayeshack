{
 "cells": [
  {
   "cell_type": "code",
   "execution_count": 23,
   "metadata": {
    "collapsed": true
   },
   "outputs": [],
   "source": [
    "from __future__ import print_function\n",
    "import pandas as pd\n",
    "import numpy as np"
   ]
  },
  {
   "cell_type": "code",
   "execution_count": 24,
   "metadata": {
    "collapsed": false
   },
   "outputs": [],
   "source": [
    "import re\n",
    "dict_file = '../data/survey/7041-1996-2015_City_Survey_DataSF.xlsx'\n",
    "data_dict = pd.read_excel(dict_file, 0, skiprows=3)\n",
    "data_dict['Variable'] = data_dict['Variable'].str.replace('\\n', '') \n",
    "data_dict = data_dict.set_index('Variable')\n",
    "\n",
    "#keep only questions which have FDCBA grades\n",
    "data_dict1 = data_dict.ix[['id', 'year', 'finweigh', 'zipcode', 'district', 'region']]\n",
    "data_dict2 = data_dict[data_dict['Value Labels'].str.contains('F-Failing', flags=re.IGNORECASE).fillna(False)]\n",
    "# remove column 'swcndnbd' as it's not present in data csv\n",
    "data_dict2 = data_dict2.drop('swcndnbd')\n",
    "data_dict = pd.concat([data_dict1, data_dict2])"
   ]
  },
  {
   "cell_type": "code",
   "execution_count": 25,
   "metadata": {
    "collapsed": false,
    "scrolled": true
   },
   "outputs": [
    {
     "name": "stdout",
     "output_type": "stream",
     "text": [
      "(10271, 60)\n"
     ]
    }
   ],
   "source": [
    "survey_df = pd.read_csv('../data/survey/San_Francisco_City_Survey_Data_1996-2015.csv')\n",
    "\n",
    "# keep only valid cols\n",
    "survey_df = survey_df[list(set(data_dict.index) & set(survey_df.columns))]\n",
    "\n",
    "# remove values of 6 and 7 (dont know, not provided responses)\n",
    "replace_dict = {col: {6: np.nan, 7: np.nan} for col in data_dict2.index}\n",
    "survey_df = survey_df.replace(replace_dict)\n",
    "\n",
    "# consider data only from 2009 - 2015\n",
    "survey_df = survey_df[survey_df['year'].isin([2009, 2011, 2013, 2015])]\n",
    "\n",
    "# consider only 941XX zip codes for SF city\n",
    "survey_df = survey_df[(survey_df['zipcode'] > 94100) & (survey_df['zipcode'] < 94200)]\n",
    "print(survey_df.shape)"
   ]
  },
  {
   "cell_type": "code",
   "execution_count": 26,
   "metadata": {
    "collapsed": false
   },
   "outputs": [
    {
     "data": {
      "text/plain": [
       "Recreation and Parks     14\n",
       "Infrastructure           11\n",
       "City Services General    11\n",
       "Libraries                 9\n",
       "Transportation            8\n",
       "Children and Families     1\n",
       "Name: Category, dtype: int64"
      ]
     },
     "execution_count": 26,
     "metadata": {},
     "output_type": "execute_result"
    }
   ],
   "source": [
    "cat_qs_counts = data_dict2['Category'].value_counts()\n",
    "cat_qs_counts"
   ]
  },
  {
   "cell_type": "code",
   "execution_count": 27,
   "metadata": {
    "collapsed": false
   },
   "outputs": [],
   "source": [
    "## weight for each category is the count of the number of questions\n",
    "weights = [cat_qs_counts[data_dict2.ix[col, 'Category']] for col in data_dict2.index]\n",
    "\n",
    "#multiply responses by 'finweigh' to normalize across years\n",
    "satisfaction_scores = (survey_df[data_dict2.index].multiply(survey_df['finweigh'], axis='rows') / weights).sum(axis=1) \n",
    "scores_by_zip = satisfaction_scores.groupby(survey_df['zipcode']).mean()"
   ]
  },
  {
   "cell_type": "code",
   "execution_count": 28,
   "metadata": {
    "collapsed": false
   },
   "outputs": [
    {
     "data": {
      "text/plain": [
       "zipcode\n",
       "94120.0     6.899325\n",
       "94131.0     7.379361\n",
       "94103.0     7.413292\n",
       "94123.0     7.463880\n",
       "94158.0     7.497538\n",
       "94118.0     7.768823\n",
       "94107.0     7.780656\n",
       "94111.0     7.781247\n",
       "94114.0     7.992968\n",
       "94105.0     8.030017\n",
       "94109.0     8.088264\n",
       "94117.0     8.214848\n",
       "94127.0     8.243457\n",
       "94115.0     8.261622\n",
       "94102.0     8.363183\n",
       "94124.0     8.428608\n",
       "94121.0     8.441895\n",
       "94113.0     8.636639\n",
       "94112.0     8.646508\n",
       "94122.0     8.803248\n",
       "94134.0     8.812299\n",
       "94132.0     8.892504\n",
       "94129.0     9.086159\n",
       "94116.0     9.090505\n",
       "94110.0     9.118152\n",
       "94101.0     9.153678\n",
       "94125.0     9.166556\n",
       "94130.0     9.182060\n",
       "94133.0     9.487025\n",
       "94108.0     9.793031\n",
       "94104.0     9.934013\n",
       "94106.0    10.099214\n",
       "94126.0    11.435526\n",
       "94119.0    12.989787\n",
       "dtype: float64"
      ]
     },
     "execution_count": 28,
     "metadata": {},
     "output_type": "execute_result"
    }
   ],
   "source": [
    "scores_by_zip.sort_values()"
   ]
  },
  {
   "cell_type": "code",
   "execution_count": 29,
   "metadata": {
    "collapsed": false
   },
   "outputs": [
    {
     "data": {
      "text/plain": [
       "94101     9.153678\n",
       "94102     8.363183\n",
       "94103     7.413292\n",
       "94104     9.934013\n",
       "94105     8.030017\n",
       "94106    10.099214\n",
       "94107     7.780656\n",
       "94108     9.793031\n",
       "94109     8.088264\n",
       "94110     9.118152\n",
       "94111     7.781247\n",
       "94112     8.646508\n",
       "94113     8.636639\n",
       "94114     7.992968\n",
       "94115     8.261622\n",
       "94116     9.090505\n",
       "94117     8.214848\n",
       "94118     7.768823\n",
       "94119    12.989787\n",
       "94120     6.899325\n",
       "94121     8.441895\n",
       "94122     8.803248\n",
       "94123     7.463880\n",
       "94124     8.428608\n",
       "94125     9.166556\n",
       "94126    11.435526\n",
       "94127     8.243457\n",
       "94129     9.086159\n",
       "94130     9.182060\n",
       "94131     7.379361\n",
       "94132     8.892504\n",
       "94133     9.487025\n",
       "94134     8.812299\n",
       "94158     7.497538\n",
       "dtype: float64"
      ]
     },
     "execution_count": 29,
     "metadata": {},
     "output_type": "execute_result"
    }
   ],
   "source": [
    "scores_by_zip.index = scores_by_zip.index.map(lambda x: int(x))\n",
    "scores_by_zip"
   ]
  },
  {
   "cell_type": "code",
   "execution_count": 31,
   "metadata": {
    "collapsed": true
   },
   "outputs": [],
   "source": [
    "# scores_by_zip.to_csv('/Users/chakri/bayeshack/analysis_data/scores_by_zipcodes.csv')"
   ]
  },
  {
   "cell_type": "code",
   "execution_count": null,
   "metadata": {
    "collapsed": true
   },
   "outputs": [],
   "source": []
  }
 ],
 "metadata": {
  "kernelspec": {
   "display_name": "Python 2",
   "language": "python",
   "name": "python2"
  },
  "language_info": {
   "codemirror_mode": {
    "name": "ipython",
    "version": 2
   },
   "file_extension": ".py",
   "mimetype": "text/x-python",
   "name": "python",
   "nbconvert_exporter": "python",
   "pygments_lexer": "ipython2",
   "version": "2.7.11"
  },
  "widgets": {
   "state": {},
   "version": "1.0.0"
  }
 },
 "nbformat": 4,
 "nbformat_minor": 0
}
