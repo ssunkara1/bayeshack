{
 "cells": [
  {
   "cell_type": "code",
   "execution_count": 1,
   "metadata": {
    "collapsed": true
   },
   "outputs": [],
   "source": [
    "from __future__ import print_function\n",
    "\n",
    "# Jupyter display\n",
    "from IPython.display import display\n",
    "\n",
    "# json\n",
    "import json\n",
    "\n",
    "# widgets\n",
    "import ipywidgets as widgets\n",
    "import bqplot as bq\n",
    "import ipyleaflet as ll\n",
    "\n",
    "# numerics\n",
    "import pandas as pd\n",
    "import numpy as np\n",
    "\n",
    "# colormap\n",
    "import matplotlib as mpl\n",
    "import matplotlib.cm\n",
    "import matplotlib.colors\n",
    "\n",
    "def n_colors(n, colormap=mpl.cm.Blues):\n",
    "    data = np.linspace(0.0,1.0,n)\n",
    "    c = [mpl.colors.rgb2hex(d[0:3]) for d in colormap(data)]\n",
    "    return c\n",
    "\n",
    "def data_to_colors(data, colormap=mpl.cm.plasma):\n",
    "    c = [mpl.colors.rgb2hex(d[0:3]) for d in colormap(mpl.colors.Normalize()(data))]\n",
    "    return c"
   ]
  },
  {
   "cell_type": "markdown",
   "metadata": {},
   "source": [
    "# Correlation Matrix for the Scores"
   ]
  },
  {
   "cell_type": "code",
   "execution_count": 2,
   "metadata": {
    "collapsed": true
   },
   "outputs": [],
   "source": [
    "data = pd.read_csv('./../analysis_data/other_race_corrected_merged_data.csv')\n",
    "data = data.ix[:, 2:]\n",
    "\n",
    "corr_data = data.corr()"
   ]
  },
  {
   "cell_type": "code",
   "execution_count": 3,
   "metadata": {
    "collapsed": false
   },
   "outputs": [],
   "source": [
    "y_sc, col_sc = bq.OrdinalScale(reverse=True), bq.ColorScale(scheme='Reds')\n",
    "ax_c = bq.ColorAxis(scale=col_sc, label='Correlations')\n",
    "grid_map = bq.GridHeatMap(row=corr_data.columns.tolist(), color=corr_data, scales={'row': y_sc, 'color': col_sc})\n",
    "ax_y = bq.Axis(scale=y_sc, orientation='vertical', side='right')\n",
    "\n",
    "fig = bq.Figure(marks=[grid_map], axes=[ax_y, ax_c], padding_y=0.0, \n",
    "             fig_margin={'bottom': 60, 'left': 5, 'right': 110, 'top': 60})\n",
    "display(fig)"
   ]
  },
  {
   "cell_type": "markdown",
   "metadata": {},
   "source": [
    "# Satisfaction Score by ZIP Code"
   ]
  },
  {
   "cell_type": "code",
   "execution_count": 4,
   "metadata": {
    "collapsed": false
   },
   "outputs": [],
   "source": [
    "survey_map = ll.Map(center=[37.7749, -122.34580993652344], zoom=12, layout=widgets.Layout(height='450px'))\n",
    "\n",
    "survey_data = pd.read_csv('./../analysis_data/scores_by_zipcodes.csv', header=None)\n",
    "survey_colors = data_to_colors(survey_data.ix[:, 1], colormap=mpl.cm.Greens)\n",
    "zips = [str(int(i)) for i in survey_data.ix[:, 0]]\n",
    "cols = {}\n",
    "\n",
    "for i in range(len(zips)):\n",
    "    cols[zips[i]] = survey_colors[i]\n",
    "\n",
    "# Survey layer\n",
    "with open('./../mapdata/sf_zipcodes.geojson') as f:\n",
    "    data = json.load(f)\n",
    "\n",
    "for feature in data['features']:\n",
    "    feature['properties']['style'] = {\n",
    "        'color': cols[feature['id']],\n",
    "        'weight': 1,\n",
    "        'fillColor': cols[feature['id']],\n",
    "        'fillOpacity': 0.65,\n",
    "    }\n",
    "\n",
    "survey_layer = ll.GeoJSON(data=data, hover_style={'fillColor': 'red'})\n",
    "survey_map += survey_layer\n",
    "\n",
    "with open('./../mapdata/bayarea_nosf_zipcodes.geojson') as f:\n",
    "    bay_data = json.load(f)\n",
    "    \n",
    "# Grey layer\n",
    "grey_colors = n_colors(len(bay_data['features']), colormap=mpl.cm.Greys)\n",
    "\n",
    "for feature, color in zip(bay_data['features'], grey_colors):\n",
    "    feature['properties']['style'] = {\n",
    "        'color': 'grey',\n",
    "        'weight': 1,\n",
    "        'fillColor': 'grey',\n",
    "        'fillOpacity': 0.2\n",
    "    }\n",
    "\n",
    "grey_layer = ll.GeoJSON(data=bay_data, hover_style={'fillColor': 'red'})\n",
    "\n",
    "survey_map.add_layer(grey_layer)\n",
    "\n",
    "survey_map"
   ]
  },
  {
   "cell_type": "markdown",
   "metadata": {},
   "source": [
    "# Neighborhood features"
   ]
  },
  {
   "cell_type": "code",
   "execution_count": 5,
   "metadata": {
    "collapsed": false
   },
   "outputs": [],
   "source": [
    "feature_map = ll.Map(center=[37.7749, -122.34580993652344], zoom=12, layout=widgets.Layout(height='450px'))\n",
    "tract_data = pd.read_csv('./../data/CensusData/sfo data/tract_data_normalized.csv')\n",
    "colors = data_to_colors(tract_data['pct_bachelors'], colormap=mpl.cm.Reds)\n",
    "tracts = [str(int(i)) for i in tract_data.ix[:, 0].values]\n",
    "\n",
    "cols = {}\n",
    "for i in range(len(tracts)):\n",
    "    cols[tracts[i][4:]] = colors[i]\n",
    "\n",
    "with open('./../mapdata/sf_tracts.geojson') as f:\n",
    "    data = json.load(f)\n",
    "for feature in data['features']:\n",
    "    try:\n",
    "        style_col = cols[feature['properties']['tractce10']]\n",
    "    except KeyError:\n",
    "        style_col = 'Grey'\n",
    "    feature['properties']['style'] = {\n",
    "        'color': style_col,\n",
    "        'weight': 1,\n",
    "        'fillColor': style_col,\n",
    "        'fillOpacity': 0.75,\n",
    "    }\n",
    "\n",
    "feature_layer = ll.GeoJSON(data=data)\n",
    "feature_map += feature_layer\n",
    "\n",
    "data_columns = [\n",
    "      'pct_bachelors',\n",
    "      'labor_part_rate',\n",
    "      'pct_welfare',\n",
    "      'low_pov_idx',\n",
    "      'labor_idx',\n",
    "      'env_health_idx',\n",
    "      'hispanic',\n",
    "      'white',\n",
    "      'black',\n",
    "      'american_indian',\n",
    "      'asian',\n",
    "      'pac_islander',\n",
    "      'other_races',\n",
    "      'two_races',\n",
    "      'housing_cost',\n",
    "      'transportation_cost',\n",
    "      'pub_school_score',\n",
    "      'pr_school_score',\n",
    "      'rest_score',\n",
    "      'rest_proximity']\n",
    "\n",
    "dpdown = widgets.Dropdown(options=data_columns, value='pct_bachelors')\n",
    "\n",
    "def update_dpdown(change):\n",
    "    value = change['new']\n",
    "    colors = data_to_colors(tract_data[value], colormap=mpl.cm.Reds)\n",
    "    cols = {}\n",
    "    for i in range(len(tracts)):\n",
    "        cols[tracts[i][4:]] = colors[i]\n",
    "    for feature in data['features']:\n",
    "        try:\n",
    "            style_col = cols[feature['properties']['tractce10']]\n",
    "        except KeyError:\n",
    "            style_col = 'grey'\n",
    "        feature['properties']['style'] = {\n",
    "            'color': style_col,\n",
    "            'weight': 1,\n",
    "            'fillColor': style_col,\n",
    "            'fillOpacity': 0.75,\n",
    "        }\n",
    "        \n",
    "    feature_layer = ll.GeoJSON(data=data)\n",
    "    \n",
    "    feature_map.layers = [feature_map.layers[0], feature_layer]\n",
    "    \n",
    "dpdown.observe(update_dpdown, names=['value'])\n",
    "\n",
    "feature_map.layout.align_self = 'stretch'\n",
    "display(widgets.VBox([feature_map, dpdown]))"
   ]
  },
  {
   "cell_type": "markdown",
   "metadata": {},
   "source": [
    "# From the Features to the Satisfaction Index"
   ]
  },
  {
   "cell_type": "code",
   "execution_count": 6,
   "metadata": {
    "collapsed": false
   },
   "outputs": [],
   "source": [
    "ordinal_features_scale = bq.OrdinalScale()\n",
    "values_features_scale = bq.LinearScale()\n",
    "value_axis = bq.Axis(scale=values_features_scale, orientation='vertical')\n",
    "\n",
    "bars = bq.Bars(x=data_columns, y=np.zeros(len(data_columns)), \n",
    "               scales={\n",
    "        'x': ordinal_features_scale,\n",
    "        'y': values_features_scale\n",
    "    })\n",
    "\n",
    "indication = bq.Label(x=0.9, y=0.5, text='Hover On Map', font_size='50px', color='gray')\n",
    "\n",
    "ui_map = ll.Map(center=[37.7449, -122.42580993652344], zoom=11, layout=widgets.Layout(width='450px', height='450px'))\n",
    "ui_map.add_layer(survey_layer)\n",
    "ui_map.add_layer(grey_layer)\n",
    "\n",
    "predictors = pd.read_csv('./../analysis_data/predictors.csv').set_index('zip code')\n",
    "\n",
    "def scores(zip_code):\n",
    "    if zip_code in predictors.index:\n",
    "        dic = predictors.ix[zip_code].to_dict()\n",
    "        return [dic[v] for v in data_columns]\n",
    "    else:\n",
    "        return np.zeros(len(data_columns))\n",
    "\n",
    "def hover_handler(event=None, id=None, properties=None):\n",
    "    figure.marks = [bars]\n",
    "    bars.y = scores(int(id))\n",
    "\n",
    "survey_layer.on_hover(hover_handler)\n",
    "\n",
    "figure = bq.Figure(axes=[value_axis], marks=[bars, indication],\n",
    "                   title='Predictors',\n",
    "                   animation_duration=500, min_width=300, min_height=500)\n",
    "\n",
    "\n",
    "widgets.HBox([ui_map, figure])"
   ]
  },
  {
   "cell_type": "markdown",
   "metadata": {},
   "source": [
    "#### Bar Chart with reduced data"
   ]
  },
  {
   "cell_type": "code",
   "execution_count": 7,
   "metadata": {
    "collapsed": true
   },
   "outputs": [],
   "source": [
    "ordinal_features_scale = bq.OrdinalScale()\n",
    "values_features_scale = bq.LinearScale()\n",
    "ord_axis = bq.Axis(scale=ordinal_features_scale)\n",
    "value_axis = bq.Axis(scale=values_features_scale, orientation='vertical')\n",
    "\n",
    "predictors = pd.read_csv('./../analysis_data/predictors.csv').set_index('zip code')\n",
    "imp_predictors = predictors.loc[:, ('env_health_idx', 'labor_idx', 'housing_cost', 'transportation_cost', 'crime_index',\n",
    "                                       'pub_school_score', 'rest_proximity')]\n",
    "imp_predictors.columns=['Environment', 'Labor', 'Housing', 'Transport', 'Crime', 'Schools', 'Resta']\n",
    "columns_reduced = imp_predictors.columns.values\n",
    "mean_scores = imp_predictors.mean().values\n",
    "\n",
    "bars = bq.Bars(x=columns_reduced, y=np.ones(len(columns_reduced)), \n",
    "               scales={\n",
    "        'x': ordinal_features_scale,\n",
    "        'y': values_features_scale\n",
    "    }, base=1.0)\n",
    "\n",
    "\n",
    "indication = bq.Label(x=0.9, y=0.5, text='Hover On Map', font_size='50px', color='gray')\n",
    "\n",
    "ui_map = ll.Map(center=[37.7449, -122.42580993652344], zoom=11, layout=widgets.Layout(width='450px', height='450px'))\n",
    "ui_map.add_layer(survey_layer)\n",
    "ui_map.add_layer(grey_layer)\n",
    "\n",
    "\n",
    "def scores(zip_code):\n",
    "    if zip_code in imp_predictors.index:\n",
    "        dic = imp_predictors.ix[zip_code].to_dict()\n",
    "        return [dic[v] for v in columns_reduced]\n",
    "    else:\n",
    "        return np.ones(len(columns_reduced))\n",
    "\n",
    "def hover_handler(event=None, id=None, properties=None):\n",
    "    figure.marks = [bars]\n",
    "    bars.y = scores(int(id)) / mean_scores\n",
    "\n",
    "survey_layer.on_hover(hover_handler)\n",
    "\n",
    "figure = bq.Figure(axes=[value_axis, ord_axis], marks=[bars, indication],\n",
    "                   title='Predictors',\n",
    "                   animation_duration=500, min_width=300, min_height=500)\n",
    "\n",
    "widgets.HBox([ui_map, figure])"
   ]
  },
  {
   "cell_type": "markdown",
   "metadata": {
    "collapsed": true
   },
   "source": [
    "#### Importances"
   ]
  },
  {
   "cell_type": "code",
   "execution_count": 8,
   "metadata": {
    "collapsed": true
   },
   "outputs": [],
   "source": [
    "scores_data = survey_data.set_index(0)\n",
    "joint_df = pd.concat([imp_predictors, scores_data], axis=1).dropna()\n",
    "preds = joint_df.iloc[:, :-1].values\n",
    "response = joint_df.iloc[:, -1].values"
   ]
  },
  {
   "cell_type": "code",
   "execution_count": 9,
   "metadata": {
    "collapsed": true
   },
   "outputs": [],
   "source": [
    "from sklearn.ensemble import RandomForestRegressor, GradientBoostingRegressor"
   ]
  },
  {
   "cell_type": "code",
   "execution_count": 10,
   "metadata": {
    "collapsed": true
   },
   "outputs": [],
   "source": [
    "rf = RandomForestRegressor(max_features=1, min_samples_leaf=3, n_estimators=100, oob_score=True,\n",
    "                           n_jobs=-1)"
   ]
  },
  {
   "cell_type": "code",
   "execution_count": 11,
   "metadata": {
    "collapsed": true
   },
   "outputs": [],
   "source": [
    "num_iter = 10\n",
    "imps = np.zeros(preds.shape[1])\n",
    "in_sample_scores = 0.\n",
    "out_sample_scores = 0.\n",
    "\n",
    "for it in range(num_iter):\n",
    "    rf.fit(preds, response)\n",
    "    imps += rf.feature_importances_\n",
    "    in_sample_scores += rf.score(preds, response)\n",
    "    out_sample_scores += rf.oob_score_"
   ]
  },
  {
   "cell_type": "code",
   "execution_count": 12,
   "metadata": {
    "collapsed": true
   },
   "outputs": [],
   "source": [
    "from bqplot import pyplot as pl"
   ]
  },
  {
   "cell_type": "code",
   "execution_count": 13,
   "metadata": {
    "collapsed": true
   },
   "outputs": [],
   "source": [
    "pl.figure(title='Importances of various factors for predicting the Satisfaction of a Neighborhood')\n",
    "pl.bar(imp_predictors.columns.values.astype(str), imps)\n",
    "pl.show()"
   ]
  },
  {
   "cell_type": "markdown",
   "metadata": {},
   "source": [
    "### Race Correlated Data"
   ]
  },
  {
   "cell_type": "markdown",
   "metadata": {},
   "source": [
    "### Feature Importances:\n",
    "\n",
    "<b>\n",
    "\n",
    "* We select a list of features like, Job Prospects, Crime Index, Environment Score, Housing and Transportation prices etc., \n",
    "which can be affected by the government. \n",
    "\n",
    "* We aim to find the features which are most important for predicting the satisfaction scores across San Francisco. We do this\n",
    "by using `Random Forests`.\n",
    "\n",
    "* Random Forests fit a bunch of trees to bootstrapped versions of the sample data and a better fit is obtained by making \n",
    "successive trees independent of each other. This is done by randomly selecting a subset of features at each node of the \n",
    "tree.\n",
    "\n",
    "* To compute the `Feature Importances`, the reduction of the error due to each of the features is calculated and the importance\n",
    "of each feature is inferred.\n",
    "</b>"
   ]
  },
  {
   "cell_type": "code",
   "execution_count": 55,
   "metadata": {
    "collapsed": true
   },
   "outputs": [],
   "source": [
    "merged_data = pd.read_csv('./../analysis_data/other_race_corrected_merged_data.csv')\n",
    "merged_data = merged_data.iloc[:, 1:]\n",
    "merged_data = merged_data.set_index('zipcode')\n",
    "\n",
    "corr_predictors = merged_data.iloc[:, :-1]\n",
    "corr_predictors = corr_predictors.loc[:, ('env_health_idx', 'labor_idx', 'housing_cost', 'transportation_cost', 'crime_index',\n",
    "                                       'pub_school_score', 'rest_proximity')].values\n",
    "\n",
    "corr_response = merged_data.iloc[:, -1].values"
   ]
  },
  {
   "cell_type": "code",
   "execution_count": 82,
   "metadata": {
    "collapsed": true
   },
   "outputs": [],
   "source": [
    "rf = RandomForestRegressor(max_features=1, min_samples_leaf=3, n_estimators=100, oob_score=True,\n",
    "                           n_jobs=-1)"
   ]
  },
  {
   "cell_type": "code",
   "execution_count": 83,
   "metadata": {
    "collapsed": true
   },
   "outputs": [],
   "source": [
    "num_iter = 10\n",
    "imps = np.zeros(corr_predictors.shape[1])\n",
    "in_sample_scores = 0.\n",
    "out_sample_scores = 0.\n",
    "\n",
    "for it in range(num_iter):\n",
    "    rf.fit(corr_predictors, corr_response)\n",
    "    imps += rf.feature_importances_\n",
    "    in_sample_scores += rf.score(corr_predictors, corr_response)\n",
    "    out_sample_scores += rf.oob_score_"
   ]
  },
  {
   "cell_type": "code",
   "execution_count": 84,
   "metadata": {
    "collapsed": false
   },
   "outputs": [
    {
     "name": "stdout",
     "output_type": "stream",
     "text": [
      "4.4744944966\n",
      "-0.123672233435\n"
     ]
    }
   ],
   "source": [
    "print(in_sample_scores)\n",
    "print(out_sample_scores)"
   ]
  },
  {
   "cell_type": "code",
   "execution_count": 85,
   "metadata": {
    "collapsed": false
   },
   "outputs": [],
   "source": [
    "pl.figure(title='Importances of various factors for predicting the Satisfaction of a Neighborhood')\n",
    "pl.bar(imp_predictors.columns.values.astype(str), imps)\n",
    "pl.show()"
   ]
  },
  {
   "cell_type": "markdown",
   "metadata": {},
   "source": [
    "### If we had two more hours:\n",
    "<b>\n",
    " * Add analysis of where the government can get maximum increase in the satisfaction for a given amount of money spent, by analyzing how the satisfaction changes for each zip code.\n",
    " \n",
    "* Improve the estimation of satisfaction index by having a weighted average across the different categories to measure well being. \n",
    "* Extend the analysis to other areas by gathering a measure of satisfaction from the residents.\n",
    "</b>"
   ]
  },
  {
   "cell_type": "code",
   "execution_count": null,
   "metadata": {
    "collapsed": true
   },
   "outputs": [],
   "source": [
    "### Conclusions\n",
    "\n",
    "* "
   ]
  }
 ],
 "metadata": {
  "kernelspec": {
   "display_name": "Python 2",
   "language": "python",
   "name": "python2"
  },
  "language_info": {
   "codemirror_mode": {
    "name": "ipython",
    "version": 2
   },
   "file_extension": ".py",
   "mimetype": "text/x-python",
   "name": "python",
   "nbconvert_exporter": "python",
   "pygments_lexer": "ipython2",
   "version": "2.7.11"
  },
  "widgets": {
   "state": {
    "00f2841f3f2a46748121ea82c40308eb": {
     "views": []
    },
    "027b344473d1423e95f272fa3a4a3131": {
     "views": []
    },
    "02e5cc1c30794106b2344f5cc95e303e": {
     "views": []
    },
    "04285362be0d44e8b905a6d717141055": {
     "views": []
    },
    "0463d46852c047ae91fb1cfe8af57e8c": {
     "views": []
    },
    "07dd203d561f469e90cf27eaf456ded0": {
     "views": []
    },
    "0840aea3d7cc4e97934fa5ace3de0b1e": {
     "views": []
    },
    "088f8475795640dfad55fae593f0a988": {
     "views": []
    },
    "0d0b3e972391446a9af4eb9abdcabbc5": {
     "views": []
    },
    "0ed8770bbf124b88bfedee2a1c4b7962": {
     "views": []
    },
    "0f40a51f0b7d4d7ba9ddd60415c73c0f": {
     "views": []
    },
    "0fd51ceace0a411badf59baeea862cea": {
     "views": []
    },
    "102abe633368484a9e88df783a229460": {
     "views": []
    },
    "110f225e00ef484a94d1085273917cad": {
     "views": [
      {
       "cell": {
        "cell_type": "code",
        "execution_count": 3,
        "metadata": {
         "collapsed": false,
         "trusted": true
        },
        "outputs": [],
        "source": "y_sc, col_sc = bq.OrdinalScale(reverse=True), bq.ColorScale(scheme='Reds')\nax_c = bq.ColorAxis(scale=col_sc, label='Correlations')\ngrid_map = bq.GridHeatMap(row=corr_data.columns.tolist(), color=corr_data, scales={'row': y_sc, 'color': col_sc})\nax_y = bq.Axis(scale=y_sc, orientation='vertical', side='right')\n\nfig = bq.Figure(marks=[grid_map], axes=[ax_y, ax_c], padding_y=0.0, \n             fig_margin={'bottom': 60, 'left': 5, 'right': 110, 'top': 60})\ndisplay(fig)"
       },
       "cell_index": 3,
       "root": true
      }
     ]
    },
    "129ea94e0d3248e1b46d3df63531059a": {
     "views": []
    },
    "12d144791c344335a4ff1279c16e9675": {
     "views": []
    },
    "12f1db593d7f418bad1d0cb6adc71c0f": {
     "views": []
    },
    "1358d00a5195466d9bffc1538aee3528": {
     "views": []
    },
    "13cab6eddd5f4cd086cfb3499e902d82": {
     "views": []
    },
    "1459515c58754eba8fa951445c5bfbc7": {
     "views": []
    },
    "14a0c9493bc24d769b53a0dd15b413e0": {
     "views": []
    },
    "15c5005da0434cce8cbd735ac911fbbd": {
     "views": []
    },
    "18d228463e1f43c5be277b41a724f4f4": {
     "views": []
    },
    "1987ce0d1f114a2f93efc4f7e34f9527": {
     "views": []
    },
    "1ba15985531d4e49968e39a2342349e6": {
     "views": []
    },
    "1bacf1967d254f95b75705689ab63758": {
     "views": [
      {
       "cell": {
        "cell_type": "code",
        "execution_count": 13,
        "metadata": {
         "collapsed": true,
         "trusted": true
        },
        "outputs": [],
        "source": "pl.figure(title='Importances of various factors for predicting the Satisfaction of a Neighborhood')\npl.bar(imp_predictors.columns.values.astype(str), imps)\npl.show()"
       },
       "cell_index": 18,
       "root": true
      }
     ]
    },
    "1d650e2b184948c49dfd44da8f9182a8": {
     "views": []
    },
    "1f4876632de04d64acc8d7ef0feea18f": {
     "views": [
      {
       "cell": {
        "cell_type": "code",
        "execution_count": 6,
        "metadata": {
         "collapsed": false,
         "trusted": true
        },
        "outputs": [],
        "source": "ordinal_features_scale = bq.OrdinalScale()\nvalues_features_scale = bq.LinearScale()\nvalue_axis = bq.Axis(scale=values_features_scale, orientation='vertical')\n\nbars = bq.Bars(x=data_columns, y=np.zeros(len(data_columns)), \n               scales={\n        'x': ordinal_features_scale,\n        'y': values_features_scale\n    })\n\nindication = bq.Label(x=0.9, y=0.5, text='Hover On Map', font_size='50px', color='gray')\n\nui_map = ll.Map(center=[37.7449, -122.42580993652344], zoom=11, layout=widgets.Layout(width='450px', height='450px'))\nui_map.add_layer(survey_layer)\nui_map.add_layer(grey_layer)\n\npredictors = pd.read_csv('./../analysis_data/predictors.csv').set_index('zip code')\n\ndef scores(zip_code):\n    if zip_code in predictors.index:\n        dic = predictors.ix[zip_code].to_dict()\n        return [dic[v] for v in data_columns]\n    else:\n        return np.zeros(len(data_columns))\n\ndef hover_handler(event=None, id=None, properties=None):\n    figure.marks = [bars]\n    bars.y = scores(int(id))\n\nsurvey_layer.on_hover(hover_handler)\n\nfigure = bq.Figure(axes=[value_axis], marks=[bars, indication],\n                   title='Predictors',\n                   animation_duration=500, min_width=300, min_height=500)\n\n\nwidgets.HBox([ui_map, figure])"
       },
       "cell_index": 9,
       "root": true
      }
     ]
    },
    "1f87bfce1474456b98eb3b64b2efb2b4": {
     "views": []
    },
    "201ef9a844004d3d9e7ea18bdef2a4ad": {
     "views": []
    },
    "20e21e5e809042999414f03baaeeb437": {
     "views": []
    },
    "24dad1ed252441d5bdc2d4186428a7a9": {
     "views": []
    },
    "24e479ad72e747939f06db2e829fc964": {
     "views": []
    },
    "2537d8d85ca8466f9b268001f1bca05f": {
     "views": []
    },
    "2635fb882dc941a1b568c9ff5a544252": {
     "views": []
    },
    "284a2233d7544135a67f7b8d9e1b853f": {
     "views": []
    },
    "292d55c1d98a4877939d1305d269b940": {
     "views": []
    },
    "2b327d664c7540f98e9fd03d69817db3": {
     "views": []
    },
    "2c7e76e9ad4a4faf92c2caf554b1aa12": {
     "views": []
    },
    "2e6bd600cf134d27a8049e14c652b8e9": {
     "views": []
    },
    "2efdc302c3c440e0afb4022acadefeb8": {
     "views": []
    },
    "3122d0df42e84da5ae4dac26c53e7063": {
     "views": []
    },
    "32037026365146d0857c320521492834": {
     "views": []
    },
    "329ded56edd8443fbf361b997c28236c": {
     "views": []
    },
    "33bf8bacd3cb4c58bdff65e53bfa74e3": {
     "views": []
    },
    "350dc70ff69c414d8419a8b3ef29cf34": {
     "views": []
    },
    "3520fa1284b44983b2848005db13a4bf": {
     "views": []
    },
    "3579faba59054439b03a2c521ef4221b": {
     "views": []
    },
    "35bb450686454e168b93e45b1721c961": {
     "views": []
    },
    "35c9b3e643804166a68b80914dd97651": {
     "views": []
    },
    "3796787fb1d14cd68640cf888b00d00e": {
     "views": []
    },
    "386fe2962eba4136a1eacc3914063866": {
     "views": []
    },
    "3a7c5de1e3d04a6db71273adbebb3abf": {
     "views": []
    },
    "3b4f6c2dce3e4237a136b891aa927a69": {
     "views": []
    },
    "3c515edf39fe47c2aaf0df0bccf76c30": {
     "views": []
    },
    "3ce0773b4f7a4cefa9e6f4795c6f58cc": {
     "views": []
    },
    "3cf6ebe4ed584a2f89900137244a5d20": {
     "views": []
    },
    "3f04014cad644793a6f1cc202684e2f1": {
     "views": []
    },
    "3f27d91b1f4947b795d3e5a7751d1d6c": {
     "views": []
    },
    "40a5995297d6459899b69d3c3089c99e": {
     "views": []
    },
    "41487a67245b49b09fddc9a3cef553cd": {
     "views": []
    },
    "41921ba3a4c947089b23c356cadc104d": {
     "views": []
    },
    "426e10e1b394431f868431ca4b853d75": {
     "views": []
    },
    "4271b24e7efb4abd98f4f2e543c592ea": {
     "views": []
    },
    "43e396dabe5646f981980e1ad6e982e2": {
     "views": []
    },
    "447f643031894a34a447de2f8d09ae8f": {
     "views": []
    },
    "45ad9bb84918432883c9e4a4b550cd39": {
     "views": []
    },
    "45e48105707c4cc88f51189acd779cb4": {
     "views": []
    },
    "45fe9b2ef2034a70b8e1a87a488c006b": {
     "views": []
    },
    "460093b90baf4ad7ae9a08bb8f38a6ea": {
     "views": []
    },
    "46a5c53913254a64899ffb4dc2abf973": {
     "views": []
    },
    "46ac527ba162426bb295942d285976c2": {
     "views": []
    },
    "48566b00d93c4711a3759e911ad1d9d2": {
     "views": []
    },
    "486093ed891a4d7da50f272e01283e8d": {
     "views": []
    },
    "48e5eea587264e52afe757b359df2e8a": {
     "views": []
    },
    "4ab83eb4bcb34d32a2c34779106417d9": {
     "views": []
    },
    "4bc3f2ffa4134974930f711f4a10f3d1": {
     "views": []
    },
    "4e1aa13c380447f38db95aa571f09b41": {
     "views": []
    },
    "4e251060be2e4063ab2cf879c87415a9": {
     "views": []
    },
    "4ffd81c3d8a948aea1da5cb617f5e333": {
     "views": []
    },
    "502298be782e4009ae6699a7bb7241f1": {
     "views": []
    },
    "527314b0118f4899976accc6f02f4521": {
     "views": [
      {
       "cell": {
        "cell_type": "code",
        "execution_count": 4,
        "metadata": {
         "collapsed": false,
         "trusted": true
        },
        "outputs": [],
        "source": "survey_map = ll.Map(center=[37.7749, -122.34580993652344], zoom=12, layout=widgets.Layout(height='450px'))\n\nsurvey_data = pd.read_csv('./../analysis_data/scores_by_zipcodes.csv', header=None)\nsurvey_colors = data_to_colors(survey_data.ix[:, 1], colormap=mpl.cm.Greens)\nzips = [str(int(i)) for i in survey_data.ix[:, 0]]\ncols = {}\n\nfor i in range(len(zips)):\n    cols[zips[i]] = survey_colors[i]\n\n# Survey layer\nwith open('./../mapdata/sf_zipcodes.geojson') as f:\n    data = json.load(f)\n\nfor feature in data['features']:\n    feature['properties']['style'] = {\n        'color': cols[feature['id']],\n        'weight': 1,\n        'fillColor': cols[feature['id']],\n        'fillOpacity': 0.65,\n    }\n\nsurvey_layer = ll.GeoJSON(data=data, hover_style={'fillColor': 'red'})\nsurvey_map += survey_layer\n\nwith open('./../mapdata/bayarea_nosf_zipcodes.geojson') as f:\n    bay_data = json.load(f)\n    \n# Grey layer\ngrey_colors = n_colors(len(bay_data['features']), colormap=mpl.cm.Greys)\n\nfor feature, color in zip(bay_data['features'], grey_colors):\n    feature['properties']['style'] = {\n        'color': 'grey',\n        'weight': 1,\n        'fillColor': 'grey',\n        'fillOpacity': 0.2\n    }\n\ngrey_layer = ll.GeoJSON(data=bay_data, hover_style={'fillColor': 'red'})\n\nsurvey_map.add_layer(grey_layer)\n\nsurvey_map"
       },
       "cell_index": 5,
       "root": true
      }
     ]
    },
    "53063e285068455190fce699a7008778": {
     "views": []
    },
    "53d35c211fa740b394f4dc0723f13c40": {
     "views": []
    },
    "53ee84c2d6654daf8839464c1a55d0b0": {
     "views": []
    },
    "54082f85fcef4c9a923feddb43f41cac": {
     "views": []
    },
    "549770efde6149d49462f2dae1bbdd24": {
     "views": []
    },
    "55863953fe6c426eb174c3d7120abb16": {
     "views": []
    },
    "58fc494942a24d44b8d7bb46f0fb9c13": {
     "views": []
    },
    "5931f53c5c834234a7262438f7726fde": {
     "views": []
    },
    "5b8236e680734e8db87be9afa54e9c37": {
     "views": []
    },
    "5bdfa0812f0d4043b1f5bce8804c4218": {
     "views": []
    },
    "5bf15d1e4e0a479195dcc0cbbb1801a0": {
     "views": []
    },
    "5c51dd597139498db62f0e9510ef58c2": {
     "views": []
    },
    "5dc8fd1aa7fb4f0ab059dd3e988789c3": {
     "views": []
    },
    "5fb892e691b6443ba0649b9b15d1b460": {
     "views": []
    },
    "608ac4bc63a54acc8d5d01b080de71ae": {
     "views": []
    },
    "60ea46381160435eb467dff4bf97dc46": {
     "views": []
    },
    "61278b559ed7459a8e8bd1ce6b13468b": {
     "views": []
    },
    "62478680ea49450fb8a3ae69d7556642": {
     "views": []
    },
    "62ec87dc6afe45178e40e94099bbc77f": {
     "views": []
    },
    "63a8ba66a3de42d48810783bdc544d5d": {
     "views": []
    },
    "63b8e2570c774e40a15ef2c9570db1b1": {
     "views": []
    },
    "649b17614cfc4193906a92f5a5e37e2e": {
     "views": []
    },
    "64aa1ac90c8140d0a4cce9a1d0cf0744": {
     "views": []
    },
    "652f9e9390c14d3c916f75a1f63bed57": {
     "views": []
    },
    "65677b44745b49bcab1924fb93cfde14": {
     "views": []
    },
    "65f940a5bd754c7492ea528db4f47ce3": {
     "views": []
    },
    "669330e083004378ba55970b30f0325a": {
     "views": []
    },
    "67ca6f36397c40b0a92cf0936b02465e": {
     "views": []
    },
    "685d2d215ed34a3185bedbae07004db3": {
     "views": []
    },
    "6894cb38131549d0b836172e9f05065f": {
     "views": []
    },
    "68e746a4686948b09a63346d37aa46a5": {
     "views": []
    },
    "697517fa7dfc42e0b6e14e0f11356fa7": {
     "views": []
    },
    "69d1073559d64038bf53069adafe0ac2": {
     "views": []
    },
    "6a44edd9775c45538d99f0240405ff71": {
     "views": []
    },
    "6c8783ff216f412d8dceb65c71d2eae9": {
     "views": []
    },
    "6dc8e63dd8ed4962b1f69d14e81083b9": {
     "views": []
    },
    "6e64bbd0d6f241d98240c134ebd254cf": {
     "views": []
    },
    "6e76231d8e924557a90a06c19901e29d": {
     "views": []
    },
    "6f3f199ad9fc407caa561104e7d5d718": {
     "views": []
    },
    "71fd04e1d8554ab0a7cfc4d3b762c83f": {
     "views": []
    },
    "7387497c64684e24a8ca2cac71fc764d": {
     "views": []
    },
    "73a73a30da894920a6b2d028d55301d5": {
     "views": []
    },
    "7423f6e283224973a6f6513cb473df16": {
     "views": []
    },
    "747b470903404f53aa9bdeaa9b94796b": {
     "views": []
    },
    "755a8551218c4866876a84e9fc4a9624": {
     "views": []
    },
    "7661a5b7c58e434c8421f3ffd81e816e": {
     "views": []
    },
    "7672447ce9834ad7ab509cb2e78b6032": {
     "views": []
    },
    "7877399a3f844bc1a688a25c28bc6d39": {
     "views": []
    },
    "787863f13bfa425dacd65f5cbda13e87": {
     "views": []
    },
    "78e3f702bb7b4177a9413976248f1717": {
     "views": []
    },
    "79b698ebf24342a0aa358b5466d32b41": {
     "views": []
    },
    "7a3834f4dcdb48c39bdb764ee97b6d13": {
     "views": []
    },
    "7a5c635a303541b8b1cfc374c68e5690": {
     "views": []
    },
    "7bd8ec8ce0fa4db8be0ecfb8ba322ef5": {
     "views": []
    },
    "7c568a05e6a24f5b8b29ab9ef019568d": {
     "views": []
    },
    "7d17f145af464eadadecee5dd57b61dd": {
     "views": []
    },
    "7f349f81b5b944eaa073dcb524ba0c9f": {
     "views": []
    },
    "80b5234e63f343c7acf4f5f8f7f41f39": {
     "views": []
    },
    "81a80f819b524ea89ca9e6d81120ff75": {
     "views": []
    },
    "829026a31ea34f16bdc9733834d8f559": {
     "views": []
    },
    "83628ee0812144e7aa51db689f960f1e": {
     "views": []
    },
    "83e022426b1c45edad8bdf02c3ce1f44": {
     "views": []
    },
    "8577bd5c362e45eb84046f661057f729": {
     "views": []
    },
    "8633fc12ef2046779fcca5f7b1622c3e": {
     "views": []
    },
    "8689156d571e4f23bc09f0af5993ce00": {
     "views": []
    },
    "881afd959f8943bcaddc7e66bd2426c0": {
     "views": []
    },
    "88f93c861d2f47a9a7e3a9223d4258bc": {
     "views": []
    },
    "89fd5b1453f34585ad5cdd9348d0e72d": {
     "views": []
    },
    "8a0808fcf7304f16971672ddfcd5fa86": {
     "views": []
    },
    "8ad1a4e9205b4141a947c1bdea9ce5a2": {
     "views": []
    },
    "8beac4120fc54f00a95aa20aab2928e1": {
     "views": []
    },
    "8c371d0d86b342a1aa7f623702147163": {
     "views": []
    },
    "8c9a4fda0eba4522b13a8949ddcf6f1d": {
     "views": []
    },
    "8cecf0e93a824193848ed3b12313e570": {
     "views": []
    },
    "8d6cc43cbca4468eaa12ac0d5caeeb28": {
     "views": [
      {
       "cell": {
        "cell_type": "code",
        "execution_count": 7,
        "metadata": {
         "collapsed": true,
         "trusted": true
        },
        "outputs": [],
        "source": "ordinal_features_scale = bq.OrdinalScale()\nvalues_features_scale = bq.LinearScale()\nord_axis = bq.Axis(scale=ordinal_features_scale)\nvalue_axis = bq.Axis(scale=values_features_scale, orientation='vertical')\n\npredictors = pd.read_csv('./../analysis_data/predictors.csv').set_index('zip code')\nimp_predictors = predictors.loc[:, ('env_health_idx', 'labor_idx', 'housing_cost', 'transportation_cost', 'crime_index',\n                                       'pub_school_score', 'rest_proximity')]\nimp_predictors.columns=['Environment', 'Labor', 'Housing', 'Transport', 'Crime', 'Schools', 'Resta']\ncolumns_reduced = imp_predictors.columns.values\nmean_scores = imp_predictors.mean().values\n\nbars = bq.Bars(x=columns_reduced, y=np.ones(len(columns_reduced)), \n               scales={\n        'x': ordinal_features_scale,\n        'y': values_features_scale\n    }, base=1.0)\n\n\nindication = bq.Label(x=0.9, y=0.5, text='Hover On Map', font_size='50px', color='gray')\n\nui_map = ll.Map(center=[37.7449, -122.42580993652344], zoom=11, layout=widgets.Layout(width='450px', height='450px'))\nui_map.add_layer(survey_layer)\nui_map.add_layer(grey_layer)\n\n\ndef scores(zip_code):\n    if zip_code in imp_predictors.index:\n        dic = imp_predictors.ix[zip_code].to_dict()\n        return [dic[v] for v in columns_reduced]\n    else:\n        return np.ones(len(columns_reduced))\n\ndef hover_handler(event=None, id=None, properties=None):\n    figure.marks = [bars]\n    bars.y = scores(int(id)) / mean_scores\n\nsurvey_layer.on_hover(hover_handler)\n\nfigure = bq.Figure(axes=[value_axis, ord_axis], marks=[bars, indication],\n                   title='Predictors',\n                   animation_duration=500, min_width=300, min_height=500)\n\nwidgets.HBox([ui_map, figure])"
       },
       "cell_index": 11,
       "root": true
      }
     ]
    },
    "8dbdc9dff8fb407fa4d3ae365fe2be5c": {
     "views": []
    },
    "8e096070b7b44dc19d9da1aa8a18a5f8": {
     "views": []
    },
    "8e506603a2e74a9581ff16d2b054d313": {
     "views": []
    },
    "8fe1af24726d44d7b625025bedf6e61c": {
     "views": []
    },
    "9092d560603749debfdb91edcc896056": {
     "views": []
    },
    "928e61f503134a44ac3ff73f8243de45": {
     "views": []
    },
    "93348e6e29d24fa5b5d38a5ff5b42514": {
     "views": []
    },
    "93744c4f0ccc44c096fbb95f15a4e9f0": {
     "views": []
    },
    "9409f54b65404145969ad585b2024726": {
     "views": []
    },
    "9517b454d16c4808b05d9f3698aba2db": {
     "views": []
    },
    "95341b1b472c4183826f3ceda9ce420e": {
     "views": []
    },
    "954838ece7c14bda9be8412542cde89c": {
     "views": []
    },
    "95d40726b77c4361adc396f3247c9968": {
     "views": []
    },
    "97804a759a264a43878f321da77ffaef": {
     "views": []
    },
    "97b8ef17de8c464291dd49344fde5952": {
     "views": []
    },
    "9910f104702f460496aa1d4139f7b404": {
     "views": []
    },
    "9a0e800122f841968cd54fd05bd34df8": {
     "views": []
    },
    "9d161562890b4b09aa5df69ed118ee71": {
     "views": []
    },
    "9dd020b13386463b86a09f2ef006bc31": {
     "views": []
    },
    "9e65a5d421be4168a1ad951b592fcd7c": {
     "views": []
    },
    "9e8184b04247447fb1b0ca8ccc419ab8": {
     "views": []
    },
    "9eeeed237c3542fd89a48e93add5a090": {
     "views": []
    },
    "9f5e20b219c74098bba05d699fd682f4": {
     "views": []
    },
    "a010231bcb3c493fa74250a82157425c": {
     "views": []
    },
    "a0319a00af494bbe9b6c26794bd1cade": {
     "views": []
    },
    "a099519075b3492c9a83aa3c2c8ad01f": {
     "views": []
    },
    "a1545e8b5c4d4b85b8c6fb822db70984": {
     "views": []
    },
    "a177f3b2ae42470c8cafb1281c968d64": {
     "views": []
    },
    "a2131f639c82461aa5af6ddc293b6fa8": {
     "views": []
    },
    "a2c6b5a6ae1740eab75e346d0a78f70f": {
     "views": []
    },
    "a38667f9cd5145358aa6be94d434f2ca": {
     "views": []
    },
    "a47fc168f77f4b1b9865b084360c51ee": {
     "views": []
    },
    "a5370608d81e48fd9719fb58466820f6": {
     "views": []
    },
    "a565766aab604be09f428b894aab5389": {
     "views": []
    },
    "a59b56def25448e18131e67f9c6fc475": {
     "views": []
    },
    "a5d77982aa1b485194adf7c29ee697f9": {
     "views": []
    },
    "a7387bab4f944987879bd5c246db9dab": {
     "views": []
    },
    "a869389548144a3daf1cc4a4e33ee257": {
     "views": []
    },
    "a9095695b5aa4bf7baed987ae6fbd877": {
     "views": []
    },
    "aaadaadde96848298a13b3e065ccf338": {
     "views": []
    },
    "acd7fcaefa264992945c57a4d74de4e6": {
     "views": []
    },
    "aebdeab47a8a449287e3a2ee839033d8": {
     "views": []
    },
    "aefd5916283d421293eb2bcb1ed74389": {
     "views": []
    },
    "b0775ff5e26549fca2394536bed39d2e": {
     "views": []
    },
    "b083bc82056245ae8d20da0a29a0d0e4": {
     "views": []
    },
    "b0eff1d7c68d4c12864560422ad1e6f7": {
     "views": []
    },
    "b27c17cdb1e94faa819b543fcf6705eb": {
     "views": []
    },
    "b2cf22b9f306441aa0da14b8696797c4": {
     "views": []
    },
    "b2e8005cd1b94225aa7d66f20d24bca1": {
     "views": []
    },
    "b32d4bc2f01744539b370151f74bd905": {
     "views": []
    },
    "b5a75f5c6b3943cb98fb173c7d5b9a2b": {
     "views": []
    },
    "b5c1d0f167f34883b687b97cd8f64e0e": {
     "views": []
    },
    "b713f1bfb9374de09846cb68e0f8f014": {
     "views": []
    },
    "b81e997002f740178458a51c29d89eb7": {
     "views": []
    },
    "b8efd40f9fd44f2b8581c44131c6756b": {
     "views": []
    },
    "ba5001b4fca0405285057ad088958eeb": {
     "views": []
    },
    "ba845ea5086c4d7a996c7b7a220afdf0": {
     "views": []
    },
    "badbb8099f41459aa38f6e7f04aa964f": {
     "views": []
    },
    "bc8c0ec40a554bd8932704fd644cf4d6": {
     "views": []
    },
    "bd1eef14633a46579d2f87fef8f8805f": {
     "views": []
    },
    "bdca3357c25545bf9d2568406692bf6f": {
     "views": []
    },
    "be9f08ffe2fe402c9c6440351a4ff069": {
     "views": []
    },
    "c0c20f7c0ea843f6bcf5e4f4c8c37de9": {
     "views": []
    },
    "c199d2c3e7e74dd39cc57a8d8da9972b": {
     "views": []
    },
    "c209b93e0e0c46009d40766af5009332": {
     "views": []
    },
    "c5a81e5687b04a0ebccf478aa362bff5": {
     "views": []
    },
    "c6e975661f8c4acf9f43d957c01b45d7": {
     "views": []
    },
    "c74899c35bdc44cea2a059bfcb4398ca": {
     "views": []
    },
    "c9c3a666eb254285a28b61289af5d7c6": {
     "views": []
    },
    "ca0263569af349498e86910dae949f26": {
     "views": []
    },
    "cb106d9d33de49428ba161c7677efdbe": {
     "views": []
    },
    "cb38616bc4384113b046ef9aae56e9d0": {
     "views": [
      {
       "cell": {
        "cell_type": "code",
        "execution_count": 5,
        "metadata": {
         "collapsed": false,
         "trusted": true
        },
        "outputs": [],
        "source": "feature_map = ll.Map(center=[37.7749, -122.34580993652344], zoom=12, layout=widgets.Layout(height='450px'))\ntract_data = pd.read_csv('./../data/CensusData/sfo data/tract_data_normalized.csv')\ncolors = data_to_colors(tract_data['pct_bachelors'], colormap=mpl.cm.Reds)\ntracts = [str(int(i)) for i in tract_data.ix[:, 0].values]\n\ncols = {}\nfor i in range(len(tracts)):\n    cols[tracts[i][4:]] = colors[i]\n\nwith open('./../mapdata/sf_tracts.geojson') as f:\n    data = json.load(f)\nfor feature in data['features']:\n    try:\n        style_col = cols[feature['properties']['tractce10']]\n    except KeyError:\n        style_col = 'Grey'\n    feature['properties']['style'] = {\n        'color': style_col,\n        'weight': 1,\n        'fillColor': style_col,\n        'fillOpacity': 0.75,\n    }\n\nfeature_layer = ll.GeoJSON(data=data)\nfeature_map += feature_layer\n\ndata_columns = [\n      'pct_bachelors',\n      'labor_part_rate',\n      'pct_welfare',\n      'low_pov_idx',\n      'labor_idx',\n      'env_health_idx',\n      'hispanic',\n      'white',\n      'black',\n      'american_indian',\n      'asian',\n      'pac_islander',\n      'other_races',\n      'two_races',\n      'housing_cost',\n      'transportation_cost',\n      'pub_school_score',\n      'pr_school_score',\n      'rest_score',\n      'rest_proximity']\n\ndpdown = widgets.Dropdown(options=data_columns, value='pct_bachelors')\n\ndef update_dpdown(change):\n    value = change['new']\n    colors = data_to_colors(tract_data[value], colormap=mpl.cm.Reds)\n    cols = {}\n    for i in range(len(tracts)):\n        cols[tracts[i][4:]] = colors[i]\n    for feature in data['features']:\n        try:\n            style_col = cols[feature['properties']['tractce10']]\n        except KeyError:\n            style_col = 'grey'\n        feature['properties']['style'] = {\n            'color': style_col,\n            'weight': 1,\n            'fillColor': style_col,\n            'fillOpacity': 0.75,\n        }\n        \n    feature_layer = ll.GeoJSON(data=data)\n    \n    feature_map.layers = [feature_map.layers[0], feature_layer]\n    \ndpdown.observe(update_dpdown, names=['value'])\n\nfeature_map.layout.align_self = 'stretch'\ndisplay(widgets.VBox([feature_map, dpdown]))"
       },
       "cell_index": 7,
       "root": true
      }
     ]
    },
    "cc1612deacc246d89e81d443125b1a1d": {
     "views": []
    },
    "cc4783742f30434bb4a64e012ac92da3": {
     "views": []
    },
    "cc9d89b2084c47be9ab92605fcc69969": {
     "views": []
    },
    "ceb1f94089e7498ab4f3b625a10769b0": {
     "views": []
    },
    "cfa844fea61742dd9725eb8338c54f08": {
     "views": []
    },
    "d068c48adf72406e9379901bf7a3fa9d": {
     "views": []
    },
    "d0b77410c0d042c9af0e8e8eec1980ea": {
     "views": []
    },
    "d1408c1740804b0ca0cad2eb6cda8864": {
     "views": []
    },
    "d2023c0e44dd4b9d926fee8c6fee969e": {
     "views": []
    },
    "d254fc2d93c843b6adc24ba482db4f0f": {
     "views": []
    },
    "d29abf49513041748691e0a99eab18f9": {
     "views": []
    },
    "d2ec2b6751e34f6fa50a24a9b16e4ca9": {
     "views": []
    },
    "d483016245074c09aa11cb84f1b1012e": {
     "views": []
    },
    "d557e1fe5a6d4f1cb10dc7cf1b96d323": {
     "views": []
    },
    "d574eefa27954b99a74b6e5e1135af52": {
     "views": []
    },
    "d61a81a88725403aada0670a5514c78e": {
     "views": []
    },
    "d6814dc6b2da4801b8eee11f38913ce1": {
     "views": []
    },
    "dac42442c522458fbad8f39ffa020b03": {
     "views": []
    },
    "dafb4d14dc364d0a8f57e9305276bdd1": {
     "views": []
    },
    "db466043697e461f944387a1c91e89a8": {
     "views": []
    },
    "dc08c891f9b345faae94b998baa8538b": {
     "views": []
    },
    "dcbd7b33f10648769daac39b0c170688": {
     "views": []
    },
    "dd3a0978667d4b4cb6d26d99c9f4fac0": {
     "views": []
    },
    "def6b72a99264ceeb936b04fc17d0813": {
     "views": []
    },
    "e0887cab587245008049517fcbcd8d01": {
     "views": []
    },
    "e0b10cb829c443cbb45056c74ce7f547": {
     "views": []
    },
    "e13db233af3f4abc8d821783411e557b": {
     "views": []
    },
    "e182932b827d49168004f34bf3471151": {
     "views": []
    },
    "e24b052e2ac54f77bbb488a35886f991": {
     "views": []
    },
    "e31b6c07cfdd4f2aba83fc88b0828114": {
     "views": []
    },
    "e3dc3bcce4d140d69dd5ad388ca08174": {
     "views": []
    },
    "e415f53f7cbc4bcd9a7a307781a18501": {
     "views": []
    },
    "e4f89014d6854b92a55baf9f49b0aba5": {
     "views": []
    },
    "e6f2a0f8771e44eca525e72524ec38e1": {
     "views": []
    },
    "e796326d6dfa4678b749ecc325afab6f": {
     "views": []
    },
    "e8753150961b414e9004b5ca86792d69": {
     "views": []
    },
    "e935f477fc88481cab64f24e7176d396": {
     "views": []
    },
    "e9b9fcd2fa6b4cd2875295941bf7b454": {
     "views": []
    },
    "eaaac6ae69d34c8e8ebf2c7a6a638410": {
     "views": []
    },
    "eae0ea429f044c5cba6353a932cc2786": {
     "views": []
    },
    "ebc3fd18af204c40a9282dab12fe9675": {
     "views": []
    },
    "ec49f8d9a0bb4c658d6365b5e877ced2": {
     "views": []
    },
    "ec8bb7e863124f90a0def14005a844b2": {
     "views": []
    },
    "efafbd3d62294cfaa0064ddc671aa3b6": {
     "views": []
    },
    "f0252d25b9424b14b521f771a9248727": {
     "views": []
    },
    "f0fb13f14e764074811e99bc231f2e47": {
     "views": []
    },
    "f12db43bc0b645f1b8851195fdec1b5c": {
     "views": []
    },
    "f4507f43dbc54113b89f0fb51218d04a": {
     "views": []
    },
    "f4c03bb5c0a244f5ad52b165d14f4bd0": {
     "views": []
    },
    "f7a2e2b964f3444cae6a1dab66000a88": {
     "views": []
    },
    "f86141470c544de58e36b6432b1ff9ac": {
     "views": []
    },
    "f86dfaf9334e472ab0172aeda76c2c99": {
     "views": []
    },
    "f89d07a5543a4b7b9c706c20dd198340": {
     "views": []
    },
    "fa2f70fb8d7e49e0a529823b4b92b3be": {
     "views": [
      {
       "cell": {
        "cell_type": "code",
        "execution_count": 85,
        "metadata": {
         "collapsed": false,
         "trusted": true
        },
        "outputs": [],
        "source": "pl.figure(title='Importances of various factors for predicting the Satisfaction of a Neighborhood')\npl.bar(imp_predictors.columns.values.astype(str), imps)\npl.show()"
       },
       "cell_index": 24,
       "root": true
      }
     ]
    },
    "fb0c5fdb870142e0b36c41f648e6c269": {
     "views": []
    },
    "fc7e397b72464b5da790b77e506bdee5": {
     "views": []
    },
    "fcc735eb8398460d89aa30002d987f69": {
     "views": []
    },
    "ff12c2b52b5f40748652ff2b66be3ce9": {
     "views": []
    }
   },
   "version": "1.0.0"
  }
 },
 "nbformat": 4,
 "nbformat_minor": 1
}
