{
 "cells": [
  {
   "cell_type": "markdown",
   "metadata": {},
   "source": [
    "# An interactive analysis of well-being in San Francisco\n",
    "\n",
    "## Goals\n",
    "-----\n",
    "This project aims at characterizing the livability of San Francisco neighborhoods in two ways:\n",
    "* Providing meaningful features for each neighborhood crime, transportation, access to restaurants etc\n",
    "  and tools to visualize them.\n",
    "- Trying to uncover a relationship between those features and the satisfaction of neighborhood inhabitants. \n",
    "\n",
    "## Data and Methodology\n",
    "--------------------\n",
    "### Survey Data\n",
    "\n",
    "We used the survey data set - [San Francisco City Survey Data 1996-2015](https://data.sfgov.org/City-Management-and-Ethics/San-Francisco-City-Survey-Data-1996-2015/89tc-4uwi) for computing the satisfaction index of San Francisco city inhabitants as follows - \n",
    "* Each field in the survey data set represents a numerical categorical response to a survey question (except for a few columns related to survey and demographic information like year, zipcode, district etc)\n",
    "* Only the questions with graded responses (from F-Very Bad to A-Excellent) were considered\n",
    "* Responses that had values of 6 (Have Not Used) and 7 (Don't know) were ignored\n",
    "* All the responses were weighted by the 'finweigh' column as stipulated in the survey data notes\n",
    "* Only data from 2009-2015 was considered\n",
    "* Finally all the responses were aggregated across zipcodes and a final **Satisfaction Score** was computed by taking a weighted average of all the scores across categories\n",
    "\n",
    "### Neighborhood Features\n",
    "\n",
    "The neighborhood features include:\n",
    "- a <b>crime</b> index, calculated from the crime density of the area.\n",
    "- access to <b>schools</b>, both public and private.\n",
    "- access to <b>restauration</b> services, i.e. number of close restaurants and their respective ratings.\n",
    "- <b>transportation costs</b>, <b>affordability</b>, <b>poverty</b>, <b>ethnicity</b> indices taken directly from census data.\n",
    "\n",
    "The crime, schools and restauration indices were created in the following way:\n",
    "* The index for every tract is a weighted average (by distance) of the tract to the individual instances (school, restaurant or crime): $$I(t) \\sim \\sum_i \\varphi(d(t, x_i))$$ where the $x_i$ are the coordinates of the instances, $t$ the coordinates of the tract, $d$ a distance function and $\\varphi$ a smoothing kernel.\n",
    "* The indices are then normalized to be between 0 and 100.\n",
    "\n",
    "### Feature Importances:\n",
    "\n",
    "* We select a list of features like, Job Prospects, Crime Index, Environment Score, Housing and Transportation prices etc., which can be affected by the government. \n",
    "\n",
    "* We aim to find the features which are most important for predicting the satisfaction scores across San Francisco. We do this by using `Random Forests`.\n",
    "\n",
    "* Random Forests fit a bunch of trees to bootstrapped versions of the sample data and a better fit is obtained by making  successive trees independent of each other. This is done by randomly selecting a subset of features at each node of the tree.\n",
    "\n",
    "* To compute the `Feature Importances`, the reduction of the error due to each of the features is calculated and the importance of each feature is inferred.\n",
    "\n",
    "### Conclusions:\n",
    "* We have compiled data from various sources to understand what drives the well-being of residents in San Francisco. We observed that Housing Costs and Job Prospects are the most important predictors of well-being.\n",
    "\n",
    "* We also observed that there are certain neighborhoods which perform badly across various types of amenities. But, we also observe that all kinds of amenities do not have the same impact on the well-being and the government can be intelligent in choosing what facilites to improve.\n",
    "\n",
    "Tools\n",
    "-----\n",
    "Analysis:\n",
    "- pandas, numpy, matplotlib\n",
    "- jupyter\n",
    "- geopy\n",
    "\n",
    "Visualization:\n",
    "- bqplot\n",
    "- ipyleaflet\n",
    "- jupyter widgets\n"
   ]
  },
  {
   "cell_type": "code",
   "execution_count": null,
   "metadata": {
    "collapsed": true
   },
   "outputs": [],
   "source": []
  },
  {
   "cell_type": "code",
   "execution_count": 1,
   "metadata": {
    "collapsed": true
   },
   "outputs": [],
   "source": [
    "from __future__ import print_function\n",
    "\n",
    "# Jupyter display\n",
    "from IPython.display import display\n",
    "\n",
    "# json\n",
    "import json\n",
    "\n",
    "# widgets\n",
    "import ipywidgets as widgets\n",
    "import bqplot as bq\n",
    "import ipyleaflet as ll\n",
    "\n",
    "# numerics\n",
    "import pandas as pd\n",
    "import numpy as np\n",
    "\n",
    "# colormap\n",
    "import matplotlib as mpl\n",
    "import matplotlib.cm\n",
    "import matplotlib.colors\n",
    "\n",
    "def n_colors(n, colormap=mpl.cm.Blues):\n",
    "    data = np.linspace(0.0,1.0,n)\n",
    "    c = [mpl.colors.rgb2hex(d[0:3]) for d in colormap(data)]\n",
    "    return c\n",
    "\n",
    "def data_to_colors(data, colormap=mpl.cm.plasma):\n",
    "    c = [mpl.colors.rgb2hex(d[0:3]) for d in colormap(mpl.colors.Normalize()(data))]\n",
    "    return c"
   ]
  },
  {
   "cell_type": "markdown",
   "metadata": {},
   "source": [
    "# Correlation Matrix for the Scores"
   ]
  },
  {
   "cell_type": "code",
   "execution_count": 2,
   "metadata": {
    "collapsed": true
   },
   "outputs": [],
   "source": [
    "data = pd.read_csv('./../analysis_data/other_race_corrected_merged_data.csv')\n",
    "data = data.ix[:, 2:]\n",
    "\n",
    "corr_data = data.corr()"
   ]
  },
  {
   "cell_type": "code",
   "execution_count": 3,
   "metadata": {
    "collapsed": false
   },
   "outputs": [],
   "source": [
    "y_sc, col_sc = bq.OrdinalScale(reverse=True), bq.ColorScale(scheme='Reds')\n",
    "ax_c = bq.ColorAxis(scale=col_sc, label='Correlations')\n",
    "grid_map = bq.GridHeatMap(row=corr_data.columns.tolist(), color=corr_data, scales={'row': y_sc, 'color': col_sc})\n",
    "ax_y = bq.Axis(scale=y_sc, orientation='vertical', side='right')\n",
    "\n",
    "fig = bq.Figure(marks=[grid_map], axes=[ax_y, ax_c], padding_y=0.0, \n",
    "             fig_margin={'bottom': 60, 'left': 5, 'right': 110, 'top': 60})\n",
    "display(fig)"
   ]
  },
  {
   "cell_type": "markdown",
   "metadata": {},
   "source": [
    "# Satisfaction Score by ZIP Code"
   ]
  },
  {
   "cell_type": "code",
   "execution_count": 4,
   "metadata": {
    "collapsed": false
   },
   "outputs": [],
   "source": [
    "survey_map = ll.Map(center=[37.7749, -122.34580993652344], zoom=12, layout=widgets.Layout(height='450px'))\n",
    "\n",
    "survey_data = pd.read_csv('./../analysis_data/scores_by_zipcodes.csv', header=None)\n",
    "survey_colors = data_to_colors(np.log(np.log(survey_data.ix[:, 1])), colormap=mpl.cm.Greens)\n",
    "zips = [str(int(i)) for i in survey_data.ix[:, 0]]\n",
    "cols = {}\n",
    "\n",
    "for i in range(len(zips)):\n",
    "    cols[zips[i]] = survey_colors[i]\n",
    "\n",
    "# Survey layer\n",
    "with open('./../mapdata/sf_zipcodes.geojson') as f:\n",
    "    data = json.load(f)\n",
    "\n",
    "for feature in data['features']:\n",
    "    feature['properties']['style'] = {\n",
    "        'color': cols[feature['id']],\n",
    "        'weight': 1,\n",
    "        'fillColor': cols[feature['id']],\n",
    "        'fillOpacity': 0.65,\n",
    "    }\n",
    "\n",
    "survey_layer = ll.GeoJSON(data=data, hover_style={'fillColor': 'red'})\n",
    "survey_map += survey_layer\n",
    "\n",
    "with open('./../mapdata/bayarea_nosf_zipcodes.geojson') as f:\n",
    "    bay_data = json.load(f)\n",
    "    \n",
    "# Grey layer\n",
    "grey_colors = n_colors(len(bay_data['features']), colormap=mpl.cm.Greys)\n",
    "\n",
    "for feature, color in zip(bay_data['features'], grey_colors):\n",
    "    feature['properties']['style'] = {\n",
    "        'color': 'grey',\n",
    "        'weight': 1,\n",
    "        'fillColor': 'grey',\n",
    "        'fillOpacity': 0.2\n",
    "    }\n",
    "\n",
    "grey_layer = ll.GeoJSON(data=bay_data, hover_style={'fillColor': 'red'})\n",
    "\n",
    "survey_map.add_layer(grey_layer)\n",
    "\n",
    "survey_map"
   ]
  },
  {
   "cell_type": "markdown",
   "metadata": {
    "input_collapsed": true
   },
   "source": [
    "# Neighborhood features"
   ]
  },
  {
   "cell_type": "code",
   "execution_count": 5,
   "metadata": {
    "collapsed": false
   },
   "outputs": [],
   "source": [
    "feature_map = ll.Map(center=[37.7749, -122.34580993652344], zoom=12, layout=widgets.Layout(height='450px'))\n",
    "tract_data = pd.read_csv('./../data/CensusData/sfo data/tract_data_normalized.csv')\n",
    "colors = data_to_colors(tract_data['pct_bachelors'], colormap=mpl.cm.Reds)\n",
    "tracts = [str(int(i)) for i in tract_data.ix[:, 0].values]\n",
    "\n",
    "cols = {}\n",
    "for i in range(len(tracts)):\n",
    "    cols[tracts[i][4:]] = colors[i]\n",
    "\n",
    "with open('./../mapdata/sf_tracts.geojson') as f:\n",
    "    data = json.load(f)\n",
    "for feature in data['features']:\n",
    "    try:\n",
    "        style_col = cols[feature['properties']['tractce10']]\n",
    "    except KeyError:\n",
    "        style_col = 'Grey'\n",
    "    feature['properties']['style'] = {\n",
    "        'color': style_col,\n",
    "        'weight': 1,\n",
    "        'fillColor': style_col,\n",
    "        'fillOpacity': 0.75,\n",
    "    }\n",
    "\n",
    "feature_layer = ll.GeoJSON(data=data)\n",
    "feature_map += feature_layer\n",
    "\n",
    "data_columns = [\n",
    "      'pct_bachelors',\n",
    "      'labor_part_rate',\n",
    "      'pct_welfare',\n",
    "      'low_pov_idx',\n",
    "      'labor_idx',\n",
    "      'env_health_idx',\n",
    "      'hispanic',\n",
    "      'white',\n",
    "      'black',\n",
    "      'american_indian',\n",
    "      'asian',\n",
    "      'pac_islander',\n",
    "      'other_races',\n",
    "      'two_races',\n",
    "      'housing_cost',\n",
    "      'transportation_cost',\n",
    "      'pub_school_score',\n",
    "      'pr_school_score',\n",
    "      'rest_score',\n",
    "      'rest_proximity']\n",
    "\n",
    "dpdown = widgets.Dropdown(options=data_columns, value='pct_bachelors')\n",
    "\n",
    "def update_dpdown(change):\n",
    "    value = change['new']\n",
    "    colors = data_to_colors(tract_data[value], colormap=mpl.cm.Reds)\n",
    "    cols = {}\n",
    "    for i in range(len(tracts)):\n",
    "        cols[tracts[i][4:]] = colors[i]\n",
    "    for feature in data['features']:\n",
    "        try:\n",
    "            style_col = cols[feature['properties']['tractce10']]\n",
    "        except KeyError:\n",
    "            style_col = 'grey'\n",
    "        feature['properties']['style'] = {\n",
    "            'color': style_col,\n",
    "            'weight': 1,\n",
    "            'fillColor': style_col,\n",
    "            'fillOpacity': 0.75,\n",
    "        }\n",
    "        \n",
    "    feature_layer = ll.GeoJSON(data=data)\n",
    "    \n",
    "    feature_map.layers = [feature_map.layers[0], feature_layer]\n",
    "    \n",
    "dpdown.observe(update_dpdown, names=['value'])\n",
    "\n",
    "feature_map.layout.align_self = 'stretch'\n",
    "display(widgets.VBox([feature_map, dpdown]))"
   ]
  },
  {
   "cell_type": "markdown",
   "metadata": {},
   "source": [
    "# From the Features to the Satisfaction Index"
   ]
  },
  {
   "cell_type": "code",
   "execution_count": 6,
   "metadata": {
    "collapsed": true
   },
   "outputs": [],
   "source": [
    "ordinal_features_scale = bq.OrdinalScale()\n",
    "values_features_scale = bq.LinearScale()\n",
    "ord_axis = bq.Axis(scale=ordinal_features_scale)\n",
    "value_axis = bq.Axis(scale=values_features_scale, orientation='vertical')\n",
    "\n",
    "predictors = pd.read_csv('./../analysis_data/predictors.csv').set_index('zip code')\n",
    "imp_predictors = predictors.loc[:, ('env_health_idx', 'labor_idx', 'housing_cost', 'transportation_cost', 'crime_index',\n",
    "                                       'pub_school_score', 'rest_proximity')]\n",
    "imp_predictors.columns=['Environment', 'Labor', 'Housing', 'Transport', 'Crime', 'Schools', 'Resta']\n",
    "columns_reduced = imp_predictors.columns.values\n",
    "mean_scores = imp_predictors.mean().values\n",
    "\n",
    "bars = bq.Bars(x=columns_reduced, y=np.ones(len(columns_reduced)), \n",
    "               scales={\n",
    "        'x': ordinal_features_scale,\n",
    "        'y': values_features_scale\n",
    "    }, base=1.0)\n",
    "\n",
    "\n",
    "indication = bq.Label(x=0.9, y=0.5, text='Hover On Map', font_size='50px', color='gray')\n",
    "\n",
    "ui_map = ll.Map(center=[37.7449, -122.42580993652344], zoom=11, layout=widgets.Layout(width='450px', height='450px'))\n",
    "ui_map.add_layer(survey_layer)\n",
    "ui_map.add_layer(grey_layer)\n",
    "\n",
    "\n",
    "def scores(zip_code):\n",
    "    if zip_code in imp_predictors.index:\n",
    "        dic = imp_predictors.ix[zip_code].to_dict()\n",
    "        return [dic[v] for v in columns_reduced]\n",
    "    else:\n",
    "        return np.ones(len(columns_reduced))\n",
    "\n",
    "def hover_handler(event=None, id=None, properties=None):\n",
    "    figure.marks = [bars]\n",
    "    bars.y = scores(int(id)) / mean_scores\n",
    "\n",
    "survey_layer.on_hover(hover_handler)\n",
    "\n",
    "figure = bq.Figure(axes=[value_axis, ord_axis], marks=[bars, indication],\n",
    "                   title='Predictors',\n",
    "                   animation_duration=500, min_width=300, min_height=500)\n",
    "\n",
    "widgets.HBox([ui_map, figure])"
   ]
  },
  {
   "cell_type": "markdown",
   "metadata": {
    "collapsed": true
   },
   "source": [
    "#### Importances"
   ]
  },
  {
   "cell_type": "code",
   "execution_count": 7,
   "metadata": {
    "collapsed": true
   },
   "outputs": [],
   "source": [
    "scores_data = survey_data.set_index(0)\n",
    "joint_df = pd.concat([imp_predictors, scores_data], axis=1).dropna()\n",
    "preds = joint_df.iloc[:, :-1].values\n",
    "response = joint_df.iloc[:, -1].values"
   ]
  },
  {
   "cell_type": "code",
   "execution_count": 8,
   "metadata": {
    "collapsed": true
   },
   "outputs": [],
   "source": [
    "from sklearn.ensemble import RandomForestRegressor, GradientBoostingRegressor"
   ]
  },
  {
   "cell_type": "code",
   "execution_count": 9,
   "metadata": {
    "collapsed": true
   },
   "outputs": [],
   "source": [
    "rf = RandomForestRegressor(max_features=1, min_samples_leaf=3, n_estimators=100, oob_score=True,\n",
    "                           n_jobs=-1)"
   ]
  },
  {
   "cell_type": "code",
   "execution_count": 10,
   "metadata": {
    "collapsed": true
   },
   "outputs": [],
   "source": [
    "num_iter = 10\n",
    "imps = np.zeros(preds.shape[1])\n",
    "in_sample_scores = 0.\n",
    "out_sample_scores = 0.\n",
    "\n",
    "for it in range(num_iter):\n",
    "    rf.fit(preds, response)\n",
    "    imps += rf.feature_importances_\n",
    "    in_sample_scores += rf.score(preds, response)\n",
    "    out_sample_scores += rf.oob_score_\n",
    "\n",
    "# sort imps desc\n",
    "sort_idx = np.argsort(imps)[::-1]"
   ]
  },
  {
   "cell_type": "code",
   "execution_count": 11,
   "metadata": {
    "collapsed": true
   },
   "outputs": [],
   "source": [
    "from bqplot import pyplot as pl"
   ]
  },
  {
   "cell_type": "code",
   "execution_count": 12,
   "metadata": {
    "collapsed": false
   },
   "outputs": [],
   "source": [
    "pl.figure(title='Importances of various factors for predicting the Satisfaction of a Neighborhood')\n",
    "pl.bar(imp_predictors.columns.values.astype(str)[sort_idx], imps[sort_idx], padding=.2,\n",
    "      colors=n_colors(7, colormap=mpl.cm.winter))\n",
    "pl.show()"
   ]
  }
 ],
 "metadata": {
  "input_collapsed": true,
  "kernelspec": {
   "display_name": "Python 2",
   "language": "python",
   "name": "python2"
  },
  "language_info": {
   "codemirror_mode": {
    "name": "ipython",
    "version": 2
   },
   "file_extension": ".py",
   "mimetype": "text/x-python",
   "name": "python",
   "nbconvert_exporter": "python",
   "pygments_lexer": "ipython2",
   "version": "2.7.11"
  },
  "widgets": {
   "state": {
    "086e4d0e7b5b4b36acc9a167bebd366f": {
     "views": []
    },
    "129c28ae9f1c41e3b67532e664643449": {
     "views": []
    },
    "16b28518534249e1bca3862bc049c843": {
     "views": []
    },
    "17d406334b2c41c08e861e7882ba0079": {
     "views": []
    },
    "17e00e25c3e147f7913072434f401baf": {
     "views": [
      {
       "cell": {
        "cell_type": "code",
        "execution_count": 5,
        "metadata": {
         "collapsed": false,
         "trusted": true
        },
        "outputs": [],
        "source": "feature_map = ll.Map(center=[37.7749, -122.34580993652344], zoom=12, layout=widgets.Layout(height='450px'))\ntract_data = pd.read_csv('./../data/CensusData/sfo data/tract_data_normalized.csv')\ncolors = data_to_colors(tract_data['pct_bachelors'], colormap=mpl.cm.Reds)\ntracts = [str(int(i)) for i in tract_data.ix[:, 0].values]\n\ncols = {}\nfor i in range(len(tracts)):\n    cols[tracts[i][4:]] = colors[i]\n\nwith open('./../mapdata/sf_tracts.geojson') as f:\n    data = json.load(f)\nfor feature in data['features']:\n    try:\n        style_col = cols[feature['properties']['tractce10']]\n    except KeyError:\n        style_col = 'Grey'\n    feature['properties']['style'] = {\n        'color': style_col,\n        'weight': 1,\n        'fillColor': style_col,\n        'fillOpacity': 0.75,\n    }\n\nfeature_layer = ll.GeoJSON(data=data)\nfeature_map += feature_layer\n\ndata_columns = [\n      'pct_bachelors',\n      'labor_part_rate',\n      'pct_welfare',\n      'low_pov_idx',\n      'labor_idx',\n      'env_health_idx',\n      'hispanic',\n      'white',\n      'black',\n      'american_indian',\n      'asian',\n      'pac_islander',\n      'other_races',\n      'two_races',\n      'housing_cost',\n      'transportation_cost',\n      'pub_school_score',\n      'pr_school_score',\n      'rest_score',\n      'rest_proximity']\n\ndpdown = widgets.Dropdown(options=data_columns, value='pct_bachelors')\n\ndef update_dpdown(change):\n    value = change['new']\n    colors = data_to_colors(tract_data[value], colormap=mpl.cm.Reds)\n    cols = {}\n    for i in range(len(tracts)):\n        cols[tracts[i][4:]] = colors[i]\n    for feature in data['features']:\n        try:\n            style_col = cols[feature['properties']['tractce10']]\n        except KeyError:\n            style_col = 'grey'\n        feature['properties']['style'] = {\n            'color': style_col,\n            'weight': 1,\n            'fillColor': style_col,\n            'fillOpacity': 0.75,\n        }\n        \n    feature_layer = ll.GeoJSON(data=data)\n    \n    feature_map.layers = [feature_map.layers[0], feature_layer]\n    \ndpdown.observe(update_dpdown, names=['value'])\n\nfeature_map.layout.align_self = 'stretch'\ndisplay(widgets.VBox([feature_map, dpdown]))"
       },
       "cell_index": 9,
       "root": true
      }
     ]
    },
    "1e912dce09cb4f58821051b61863f26b": {
     "views": []
    },
    "23dc3f710b234c0bb5ef6ee7c6ab7ec5": {
     "views": []
    },
    "24585fb5630845309523e9159d4d9959": {
     "views": []
    },
    "2b2a438272d0480a84e59eb52028c04a": {
     "views": []
    },
    "2c35408872234946a10fc21e6223652a": {
     "views": []
    },
    "336987729feb47879e9d25730b5cc4c1": {
     "views": []
    },
    "4432b0209b674454a5a1713a434194da": {
     "views": []
    },
    "54433d76e1914cf8982ac8bcf6aef293": {
     "views": []
    },
    "5fa81766ae65468f906d9ecf763f77ed": {
     "views": []
    },
    "67458582a6784243ba976e3faf7839bd": {
     "views": []
    },
    "6e43c06d164b48d9a9d5907251b00cbb": {
     "views": []
    },
    "7952182143fa4ea392d1d484fae95107": {
     "views": []
    },
    "7df58f5dd30848af9399308690aa6258": {
     "views": []
    },
    "7f53e06685524ae5b7da6b73a5b8d62f": {
     "views": []
    },
    "7f79f8dc0f6b450bbbe498b7092ba378": {
     "views": []
    },
    "834621575acd4bdd97af7a88fbc6c6d6": {
     "views": []
    },
    "86dcd116cbe2475895e9f620ca820d32": {
     "views": []
    },
    "87004025f5184b198a4ec1457a11ef61": {
     "views": []
    },
    "8f4ca2f457fc437484ae3a18bf6f71f0": {
     "views": []
    },
    "98c25d4091d7415995160c69666e870c": {
     "views": []
    },
    "9f681a7ed89e45859320276f77cebfaf": {
     "views": []
    },
    "a7f9999528844bc1920b745a2e4458f0": {
     "views": [
      {
       "cell": {
        "cell_type": "code",
        "execution_count": 12,
        "metadata": {
         "collapsed": false,
         "trusted": true
        },
        "outputs": [],
        "source": "pl.figure(title='Importances of various factors for predicting the Satisfaction of a Neighborhood')\npl.bar(imp_predictors.columns.values.astype(str)[sort_idx], imps[sort_idx], padding=.2,\n      colors=n_colors(7, colormap=mpl.cm.winter))\npl.show()"
       },
       "cell_index": 18,
       "root": true
      }
     ]
    },
    "aeac0f4898cb40178cd1e1d42e56d265": {
     "views": []
    },
    "b0b1e7bb72f645b8adcd553a3b8f5032": {
     "views": [
      {
       "cell": {
        "cell_type": "code",
        "execution_count": 3,
        "metadata": {
         "collapsed": false,
         "trusted": true
        },
        "outputs": [],
        "source": "y_sc, col_sc = bq.OrdinalScale(reverse=True), bq.ColorScale(scheme='Reds')\nax_c = bq.ColorAxis(scale=col_sc, label='Correlations')\ngrid_map = bq.GridHeatMap(row=corr_data.columns.tolist(), color=corr_data, scales={'row': y_sc, 'color': col_sc})\nax_y = bq.Axis(scale=y_sc, orientation='vertical', side='right')\n\nfig = bq.Figure(marks=[grid_map], axes=[ax_y, ax_c], padding_y=0.0, \n             fig_margin={'bottom': 60, 'left': 5, 'right': 110, 'top': 60})\ndisplay(fig)"
       },
       "cell_index": 5,
       "root": true
      }
     ]
    },
    "b141b5bce01942dda0a01515c15d4dd8": {
     "views": []
    },
    "b395bb214f344b4c9a4d9df2ec7cfa4d": {
     "views": []
    },
    "b53c8b493c7f4f5a919710f8716a0500": {
     "views": []
    },
    "b581c42d87574cd5a5f11aded0185599": {
     "views": []
    },
    "b8918c0c2e60457c82f994255ea39132": {
     "views": []
    },
    "b903e9bca5a747bba9799631630e858c": {
     "views": [
      {
       "cell": {
        "cell_type": "code",
        "execution_count": 6,
        "metadata": {
         "collapsed": true,
         "trusted": true
        },
        "outputs": [],
        "source": "ordinal_features_scale = bq.OrdinalScale()\nvalues_features_scale = bq.LinearScale()\nord_axis = bq.Axis(scale=ordinal_features_scale)\nvalue_axis = bq.Axis(scale=values_features_scale, orientation='vertical')\n\npredictors = pd.read_csv('./../analysis_data/predictors.csv').set_index('zip code')\nimp_predictors = predictors.loc[:, ('env_health_idx', 'labor_idx', 'housing_cost', 'transportation_cost', 'crime_index',\n                                       'pub_school_score', 'rest_proximity')]\nimp_predictors.columns=['Environment', 'Labor', 'Housing', 'Transport', 'Crime', 'Schools', 'Resta']\ncolumns_reduced = imp_predictors.columns.values\nmean_scores = imp_predictors.mean().values\n\nbars = bq.Bars(x=columns_reduced, y=np.ones(len(columns_reduced)), \n               scales={\n        'x': ordinal_features_scale,\n        'y': values_features_scale\n    }, base=1.0)\n\n\nindication = bq.Label(x=0.9, y=0.5, text='Hover On Map', font_size='50px', color='gray')\n\nui_map = ll.Map(center=[37.7449, -122.42580993652344], zoom=11, layout=widgets.Layout(width='450px', height='450px'))\nui_map.add_layer(survey_layer)\nui_map.add_layer(grey_layer)\n\n\ndef scores(zip_code):\n    if zip_code in imp_predictors.index:\n        dic = imp_predictors.ix[zip_code].to_dict()\n        return [dic[v] for v in columns_reduced]\n    else:\n        return np.ones(len(columns_reduced))\n\ndef hover_handler(event=None, id=None, properties=None):\n    figure.marks = [bars]\n    bars.y = scores(int(id)) / mean_scores\n\nsurvey_layer.on_hover(hover_handler)\n\nfigure = bq.Figure(axes=[value_axis, ord_axis], marks=[bars, indication],\n                   title='Predictors',\n                   animation_duration=500, min_width=300, min_height=500)\n\nwidgets.HBox([ui_map, figure])"
       },
       "cell_index": 11,
       "root": true
      }
     ]
    },
    "bb5f01b2afd6439f897a2b37b64bf39b": {
     "views": []
    },
    "bc743652801f4b468c17964e0c8369be": {
     "views": []
    },
    "bca6624ead91492396c1ddb0b0cc8784": {
     "views": []
    },
    "bd3fc1815d9c4bf392eaf114bab9c501": {
     "views": []
    },
    "bde9b2840a8d4510b9d8e7aae4ed28d6": {
     "views": []
    },
    "c4ad0a5fa5c74af9b6ed51153bfff349": {
     "views": []
    },
    "c4c928210540410eaf5468b1da2a5fcb": {
     "views": []
    },
    "cdd67051705742f4896b6c133dc95dec": {
     "views": []
    },
    "d22355f4fee04f3aab58c0584b9889e4": {
     "views": []
    },
    "d525b299780a489280b360bfdee439de": {
     "views": []
    },
    "e0201b2acd0f423e82601a9cf5c6e9f4": {
     "views": []
    },
    "e0ed6d18248f4d9d831ef08eb841aaad": {
     "views": []
    },
    "efdf83c82ec44ecebb77bf3ee5ebc898": {
     "views": []
    },
    "f74365d60ee84d848eb7b764af142de4": {
     "views": []
    },
    "fa528f01215a4298abe85397ef55b630": {
     "views": [
      {
       "cell": {
        "cell_type": "code",
        "execution_count": 4,
        "metadata": {
         "collapsed": false,
         "trusted": true
        },
        "outputs": [],
        "source": "survey_map = ll.Map(center=[37.7749, -122.34580993652344], zoom=12, layout=widgets.Layout(height='450px'))\n\nsurvey_data = pd.read_csv('./../analysis_data/scores_by_zipcodes.csv', header=None)\nsurvey_colors = data_to_colors(np.log(np.log(survey_data.ix[:, 1])), colormap=mpl.cm.Greens)\nzips = [str(int(i)) for i in survey_data.ix[:, 0]]\ncols = {}\n\nfor i in range(len(zips)):\n    cols[zips[i]] = survey_colors[i]\n\n# Survey layer\nwith open('./../mapdata/sf_zipcodes.geojson') as f:\n    data = json.load(f)\n\nfor feature in data['features']:\n    feature['properties']['style'] = {\n        'color': cols[feature['id']],\n        'weight': 1,\n        'fillColor': cols[feature['id']],\n        'fillOpacity': 0.65,\n    }\n\nsurvey_layer = ll.GeoJSON(data=data, hover_style={'fillColor': 'red'})\nsurvey_map += survey_layer\n\nwith open('./../mapdata/bayarea_nosf_zipcodes.geojson') as f:\n    bay_data = json.load(f)\n    \n# Grey layer\ngrey_colors = n_colors(len(bay_data['features']), colormap=mpl.cm.Greys)\n\nfor feature, color in zip(bay_data['features'], grey_colors):\n    feature['properties']['style'] = {\n        'color': 'grey',\n        'weight': 1,\n        'fillColor': 'grey',\n        'fillOpacity': 0.2\n    }\n\ngrey_layer = ll.GeoJSON(data=bay_data, hover_style={'fillColor': 'red'})\n\nsurvey_map.add_layer(grey_layer)\n\nsurvey_map"
       },
       "cell_index": 7,
       "root": true
      }
     ]
    },
    "fbe639cc3ab54db18cec126569261238": {
     "views": []
    }
   },
   "version": "1.0.0"
  }
 },
 "nbformat": 4,
 "nbformat_minor": 1
}
