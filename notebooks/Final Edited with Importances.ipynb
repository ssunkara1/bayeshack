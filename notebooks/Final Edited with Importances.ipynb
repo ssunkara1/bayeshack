{
 "cells": [
  {
   "cell_type": "code",
   "execution_count": 1,
   "metadata": {
    "collapsed": true
   },
   "outputs": [],
   "source": [
    "from __future__ import print_function\n",
    "\n",
    "# Jupyter display\n",
    "from IPython.display import display\n",
    "\n",
    "# json\n",
    "import json\n",
    "\n",
    "# widgets\n",
    "import ipywidgets as widgets\n",
    "import bqplot as bq\n",
    "import ipyleaflet as ll\n",
    "\n",
    "# numerics\n",
    "import pandas as pd\n",
    "import numpy as np\n",
    "\n",
    "# colormap\n",
    "import matplotlib as mpl\n",
    "import matplotlib.cm\n",
    "import matplotlib.colors\n",
    "\n",
    "def n_colors(n, colormap=mpl.cm.Blues):\n",
    "    data = np.linspace(0.0,1.0,n)\n",
    "    c = [mpl.colors.rgb2hex(d[0:3]) for d in colormap(data)]\n",
    "    return c\n",
    "\n",
    "def data_to_colors(data, colormap=mpl.cm.plasma):\n",
    "    c = [mpl.colors.rgb2hex(d[0:3]) for d in colormap(mpl.colors.Normalize()(data))]\n",
    "    return c"
   ]
  },
  {
   "cell_type": "markdown",
   "metadata": {},
   "source": [
    "# Satisfaction Score by ZIP Code"
   ]
  },
  {
   "cell_type": "code",
   "execution_count": 2,
   "metadata": {
    "collapsed": false
   },
   "outputs": [],
   "source": [
    "survey_map = ll.Map(center=[37.7749, -122.34580993652344], zoom=12, layout=widgets.Layout(height='450px'))\n",
    "\n",
    "survey_data = pd.read_csv('./../analysis_data/scores_by_zipcodes.csv', header=None)\n",
    "survey_colors = data_to_colors(survey_data.ix[:, 1], colormap=mpl.cm.Greens)\n",
    "zips = [str(int(i)) for i in survey_data.ix[:, 0]]\n",
    "cols = {}\n",
    "\n",
    "for i in range(len(zips)):\n",
    "    cols[zips[i]] = survey_colors[i]\n",
    "\n",
    "# Survey layer\n",
    "with open('./../mapdata/sf_zipcodes.geojson') as f:\n",
    "    data = json.load(f)\n",
    "\n",
    "for feature in data['features']:\n",
    "    feature['properties']['style'] = {\n",
    "        'color': cols[feature['id']],\n",
    "        'weight': 1,\n",
    "        'fillColor': cols[feature['id']],\n",
    "        'fillOpacity': 0.65,\n",
    "    }\n",
    "\n",
    "survey_layer = ll.GeoJSON(data=data, hover_style={'fillColor': 'red'})\n",
    "survey_map += survey_layer\n",
    "\n",
    "with open('./../mapdata/bayarea_nosf_zipcodes.geojson') as f:\n",
    "    bay_data = json.load(f)\n",
    "    \n",
    "# Grey layer\n",
    "grey_colors = n_colors(len(bay_data['features']), colormap=mpl.cm.Greys)\n",
    "\n",
    "for feature, color in zip(bay_data['features'], grey_colors):\n",
    "    feature['properties']['style'] = {\n",
    "        'color': 'grey',\n",
    "        'weight': 1,\n",
    "        'fillColor': 'grey',\n",
    "        'fillOpacity': 0.2\n",
    "    }\n",
    "\n",
    "grey_layer = ll.GeoJSON(data=bay_data, hover_style={'fillColor': 'red'})\n",
    "\n",
    "survey_map.add_layer(grey_layer)\n",
    "\n",
    "survey_map"
   ]
  },
  {
   "cell_type": "markdown",
   "metadata": {},
   "source": [
    "# Neighborhood features"
   ]
  },
  {
   "cell_type": "code",
   "execution_count": 3,
   "metadata": {
    "collapsed": false
   },
   "outputs": [],
   "source": [
    "feature_map = ll.Map(center=[37.7749, -122.34580993652344], zoom=12, layout=widgets.Layout(height='450px'))\n",
    "tract_data = pd.read_csv('./../data/CensusData/sfo data/tract_data_normalized.csv')\n",
    "colors = data_to_colors(tract_data['pct_bachelors'], colormap=mpl.cm.Reds)\n",
    "tracts = [str(int(i)) for i in tract_data.ix[:, 0].values]\n",
    "\n",
    "cols = {}\n",
    "for i in range(len(tracts)):\n",
    "    cols[tracts[i][4:]] = colors[i]\n",
    "\n",
    "with open('./../mapdata/sf_tracts.geojson') as f:\n",
    "    data = json.load(f)\n",
    "for feature in data['features']:\n",
    "    try:\n",
    "        style_col = cols[feature['properties']['tractce10']]\n",
    "    except KeyError:\n",
    "        style_col = 'Grey'\n",
    "    feature['properties']['style'] = {\n",
    "        'color': style_col,\n",
    "        'weight': 1,\n",
    "        'fillColor': style_col,\n",
    "        'fillOpacity': 0.75,\n",
    "    }\n",
    "\n",
    "feature_layer = ll.GeoJSON(data=data)\n",
    "feature_map += feature_layer\n",
    "\n",
    "data_columns = [\n",
    "      'pct_bachelors',\n",
    "      'labor_part_rate',\n",
    "      'pct_welfare',\n",
    "      'low_pov_idx',\n",
    "      'labor_idx',\n",
    "      'env_health_idx',\n",
    "      'hispanic',\n",
    "      'white',\n",
    "      'black',\n",
    "      'american_indian',\n",
    "      'asian',\n",
    "      'pac_islander',\n",
    "      'other_races',\n",
    "      'two_races',\n",
    "      'housing_cost',\n",
    "      'transportation_cost',\n",
    "      'pub_school_score',\n",
    "      'pr_school_score',\n",
    "      'rest_score',\n",
    "      'rest_proximity']\n",
    "\n",
    "dpdown = widgets.Dropdown(options=data_columns, value='pct_bachelors')\n",
    "\n",
    "def update_dpdown(change):\n",
    "    value = change['new']\n",
    "    colors = data_to_colors(tract_data[value], colormap=mpl.cm.Reds)\n",
    "    cols = {}\n",
    "    for i in range(len(tracts)):\n",
    "        cols[tracts[i][4:]] = colors[i]\n",
    "    for feature in data['features']:\n",
    "        try:\n",
    "            style_col = cols[feature['properties']['tractce10']]\n",
    "        except KeyError:\n",
    "            style_col = 'grey'\n",
    "        feature['properties']['style'] = {\n",
    "            'color': style_col,\n",
    "            'weight': 1,\n",
    "            'fillColor': style_col,\n",
    "            'fillOpacity': 0.75,\n",
    "        }\n",
    "        \n",
    "    feature_layer = ll.GeoJSON(data=data)\n",
    "    \n",
    "    feature_map.layers = [feature_map.layers[0], feature_layer]\n",
    "    \n",
    "dpdown.observe(update_dpdown, names=['value'])\n",
    "\n",
    "feature_map.layout.align_self = 'stretch'\n",
    "display(widgets.VBox([feature_map, dpdown]))"
   ]
  },
  {
   "cell_type": "markdown",
   "metadata": {},
   "source": [
    "# From the Features to the Satisfaction Index"
   ]
  },
  {
   "cell_type": "code",
   "execution_count": 4,
   "metadata": {
    "collapsed": false
   },
   "outputs": [],
   "source": [
    "ordinal_features_scale = bq.OrdinalScale()\n",
    "values_features_scale = bq.LinearScale()\n",
    "value_axis = bq.Axis(scale=values_features_scale, orientation='vertical')\n",
    "\n",
    "bars = bq.Bars(x=data_columns, y=np.zeros(len(data_columns)), \n",
    "               scales={\n",
    "        'x': ordinal_features_scale,\n",
    "        'y': values_features_scale\n",
    "    })\n",
    "\n",
    "indication = bq.Label(x=0.9, y=0.5, text='Hover On Map', font_size='50px', color='gray')\n",
    "\n",
    "ui_map = ll.Map(center=[37.7449, -122.42580993652344], zoom=11, layout=widgets.Layout(width='450px', height='450px'))\n",
    "ui_map.add_layer(survey_layer)\n",
    "ui_map.add_layer(grey_layer)\n",
    "\n",
    "predictors = pd.read_csv('./../analysis_data/predictors_new.csv').set_index('zip code')\n",
    "\n",
    "def scores(zip_code):\n",
    "    if zip_code in predictors.index:\n",
    "        dic = predictors.ix[zip_code].to_dict()\n",
    "        return [dic[v] for v in data_columns]\n",
    "    else:\n",
    "        return np.zeros(len(data_columns))\n",
    "\n",
    "def hover_handler(event=None, id=None, properties=None):\n",
    "    figure.marks = [bars]\n",
    "    bars.y = scores(int(id))\n",
    "\n",
    "survey_layer.on_hover(hover_handler)\n",
    "\n",
    "figure = bq.Figure(axes=[value_axis], marks=[bars, indication],\n",
    "                   title='Predictors',\n",
    "                   animation_duration=500, min_width=300, min_height=500)\n",
    "\n",
    "\n",
    "widgets.HBox([ui_map, figure])"
   ]
  },
  {
   "cell_type": "markdown",
   "metadata": {},
   "source": [
    "#### Bar chart with reduced data"
   ]
  },
  {
   "cell_type": "code",
   "execution_count": 5,
   "metadata": {
    "collapsed": false
   },
   "outputs": [],
   "source": [
    "ordinal_features_scale = bq.OrdinalScale()\n",
    "values_features_scale = bq.LinearScale()\n",
    "ord_axis = bq.Axis(scale=ordinal_features_scale)\n",
    "value_axis = bq.Axis(scale=values_features_scale, orientation='vertical')\n",
    "\n",
    "predictors = pd.read_csv('./../analysis_data/predictors.csv').set_index('zip code')\n",
    "imp_predictors = predictors.loc[:, ('env_health_idx', 'labor_idx', 'housing_cost', 'transportation_cost', 'crime_index',\n",
    "                                       'pub_school_score', 'rest_proximity')]\n",
    "imp_predictors.columns=['Environment', 'Labor', 'Housing', 'Transport', 'Crime', 'Schools', 'Resta']\n",
    "columns_reduced = imp_predictors.columns.values\n",
    "mean_scores = imp_predictors.mean().values\n",
    "\n",
    "bars = bq.Bars(x=columns_reduced, y=np.ones(len(columns_reduced)), \n",
    "               scales={\n",
    "        'x': ordinal_features_scale,\n",
    "        'y': values_features_scale\n",
    "    }, base=1.0)\n",
    "\n",
    "\n",
    "indication = bq.Label(x=0.9, y=0.5, text='Hover On Map', font_size='50px', color='gray')\n",
    "\n",
    "ui_map = ll.Map(center=[37.7449, -122.42580993652344], zoom=11, layout=widgets.Layout(width='450px', height='450px'))\n",
    "ui_map.add_layer(survey_layer)\n",
    "ui_map.add_layer(grey_layer)\n",
    "\n",
    "\n",
    "def scores(zip_code):\n",
    "    if zip_code in imp_predictors.index:\n",
    "        dic = imp_predictors.ix[zip_code].to_dict()\n",
    "        return [dic[v] for v in columns_reduced]\n",
    "    else:\n",
    "        return np.ones(len(columns_reduced))\n",
    "\n",
    "def hover_handler(event=None, id=None, properties=None):\n",
    "    figure.marks = [bars]\n",
    "    bars.y = scores(int(id)) / mean_scores\n",
    "\n",
    "survey_layer.on_hover(hover_handler)\n",
    "\n",
    "figure = bq.Figure(axes=[value_axis, ord_axis], marks=[bars, indication],\n",
    "                   title='Predictors',\n",
    "                   animation_duration=500, min_width=300, min_height=500)\n",
    "\n",
    "widgets.HBox([ui_map, figure])"
   ]
  },
  {
   "cell_type": "markdown",
   "metadata": {
    "collapsed": true
   },
   "source": [
    "#### Feature Importances"
   ]
  },
  {
   "cell_type": "code",
   "execution_count": 6,
   "metadata": {
    "collapsed": false
   },
   "outputs": [],
   "source": [
    "scores_data = survey_data.set_index(0)\n",
    "joint_df = pd.concat([imp_predictors, scores_data], axis=1).dropna()\n",
    "preds = joint_df.iloc[:, :-1].values\n",
    "response = joint_df.iloc[:, -1].values"
   ]
  },
  {
   "cell_type": "code",
   "execution_count": 7,
   "metadata": {
    "collapsed": false
   },
   "outputs": [],
   "source": [
    "from sklearn.ensemble import RandomForestRegressor, GradientBoostingRegressor"
   ]
  },
  {
   "cell_type": "code",
   "execution_count": 8,
   "metadata": {
    "collapsed": true
   },
   "outputs": [],
   "source": [
    "rf = RandomForestRegressor(max_features=1, min_samples_leaf=2, n_estimators=100, oob_score=True,\n",
    "                           n_jobs=-1)"
   ]
  },
  {
   "cell_type": "code",
   "execution_count": 9,
   "metadata": {
    "collapsed": false
   },
   "outputs": [],
   "source": [
    "num_iter = 10\n",
    "imps = np.zeros(preds.shape[1])\n",
    "in_sample_scores = 0.\n",
    "out_sample_scores = 0.\n",
    "\n",
    "for it in range(num_iter):\n",
    "    rf.fit(preds, response)\n",
    "    imps += rf.feature_importances_\n",
    "    in_sample_scores += rf.score(preds, response)\n",
    "    out_sample_scores += rf.oob_score_"
   ]
  },
  {
   "cell_type": "code",
   "execution_count": 10,
   "metadata": {
    "collapsed": false
   },
   "outputs": [],
   "source": [
    "from bqplot import pyplot as pl"
   ]
  },
  {
   "cell_type": "code",
   "execution_count": 11,
   "metadata": {
    "collapsed": false
   },
   "outputs": [],
   "source": [
    "pl.figure(title='Importances of various factors for predicting the Satisfaction of a Neighborhood')\n",
    "pl.bar(imp_predictors.columns.values.astype(str), imps)\n",
    "pl.show()"
   ]
  },
  {
   "cell_type": "markdown",
   "metadata": {},
   "source": [
    "#### Changing factors for a neighborhood"
   ]
  },
  {
   "cell_type": "code",
   "execution_count": 12,
   "metadata": {
    "collapsed": false
   },
   "outputs": [],
   "source": [
    "ind = 0 \n",
    "\n",
    "ordinal_features_scale = bq.OrdinalScale()\n",
    "values_features_scale = bq.LinearScale()\n",
    "ord_axis = bq.Axis(scale=ordinal_features_scale)\n",
    "value_axis = bq.Axis(scale=values_features_scale, orientation='vertical')\n",
    "\n",
    "predictors = pd.read_csv('./../analysis_data/predictors_new.csv').set_index('zip code')\n",
    "imp_predictors = predictors.loc[:, ('env_health_idx', 'labor_idx', 'housing_cost', 'transportation_cost', 'crime_index',\n",
    "                                       'pub_school_score', 'rest_proximity')]\n",
    "imp_predictors.columns=['Environment', 'Labor', 'Housing', 'Transport', 'Crime', 'Schools', 'Resta']\n",
    "columns_reduced = imp_predictors.columns.values\n",
    "mean_scores = imp_predictors.mean().values\n",
    "\n",
    "bars = bq.Bars(x=columns_reduced, y=np.ones(len(columns_reduced)), \n",
    "               scales={\n",
    "        'x': ordinal_features_scale,\n",
    "        'y': values_features_scale\n",
    "    }, base=1.0)\n",
    "\n",
    "scat = bq.Scatter(x=columns_reduced, y=np.ones(len(columns_reduced)),\n",
    "                  scales={\n",
    "        'x': ordinal_features_scale,\n",
    "        'y': values_features_scale\n",
    "    }, default_size=128, stroke='black', enable_move=True,\n",
    "                 restrict_y=True, update_on_move=True)\n",
    "\n",
    "indication = bq.Label(x=0.9, y=0.5, text='Hover On Map', font_size='50px', color='gray')\n",
    "\n",
    "ui_map = ll.Map(center=[37.7449, -122.42580993652344], zoom=11, layout=widgets.Layout(width='450px', height='450px'))\n",
    "ui_map.add_layer(survey_layer)\n",
    "ui_map.add_layer(grey_layer)\n",
    "\n",
    "\n",
    "def scores(zip_code):\n",
    "    if zip_code in imp_predictors.index:\n",
    "        dic = imp_predictors.ix[zip_code].to_dict()\n",
    "        return [dic[v] for v in columns_reduced]\n",
    "    else:\n",
    "        return np.ones(len(columns_reduced))\n",
    "\n",
    "def hover_handler(event=None, id=None, properties=None):\n",
    "    global ind\n",
    "    ind = id\n",
    "    figure.marks = [bars, scat]\n",
    "    bars.y = scores(int(id)) / mean_scores\n",
    "    scat.y = scores(int(id)) / mean_scores\n",
    "\n",
    "survey_layer.on_hover(hover_handler)\n",
    "\n",
    "figure = bq.Figure(axes=[value_axis, ord_axis], marks=[bars, scat, indication],\n",
    "                   title='Predictors',\n",
    "                   animation_duration=500, min_width=300, min_height=500)\n",
    "\n",
    "widgets.HBox([ui_map, figure])"
   ]
  },
  {
   "cell_type": "code",
   "execution_count": 13,
   "metadata": {
    "collapsed": true
   },
   "outputs": [],
   "source": [
    "def scat_drag(*args):\n",
    "    bars.y = scat.y\n",
    "    \n",
    "def update_colors(data):\n",
    "    pass"
   ]
  },
  {
   "cell_type": "code",
   "execution_count": null,
   "metadata": {
    "collapsed": false
   },
   "outputs": [],
   "source": [
    "survey_data"
   ]
  },
  {
   "cell_type": "code",
   "execution_count": null,
   "metadata": {
    "collapsed": true
   },
   "outputs": [],
   "source": [
    "??scat"
   ]
  },
  {
   "cell_type": "code",
   "execution_count": null,
   "metadata": {
    "collapsed": true
   },
   "outputs": [],
   "source": []
  }
 ],
 "metadata": {
  "kernelspec": {
   "display_name": "Python 2",
   "language": "python",
   "name": "python2"
  },
  "language_info": {
   "codemirror_mode": {
    "name": "ipython",
    "version": 2
   },
   "file_extension": ".py",
   "mimetype": "text/x-python",
   "name": "python",
   "nbconvert_exporter": "python",
   "pygments_lexer": "ipython2",
   "version": "2.7.11"
  },
  "widgets": {
   "state": {
    "00af705c29e148e1bf2f09fb1e983e75": {
     "views": []
    },
    "0238eff0936e4558908412321d8c6026": {
     "views": []
    },
    "064bfd81d965463581c5b706a30c3d6f": {
     "views": []
    },
    "06e742e794334a7ba8a7f1c113fdeade": {
     "views": []
    },
    "06edaf94e6ba4908acb5cbe5d314eaad": {
     "views": []
    },
    "0bbb9276b949410db1ef1f832b1f1ccf": {
     "views": []
    },
    "0d10ded122994443a7fb938d0a664d28": {
     "views": []
    },
    "0d4087a21c884cceab4031a21f8bfd77": {
     "views": []
    },
    "0d4774d209af43939da5bb4589ba6e22": {
     "views": []
    },
    "109c9e32c7b947288e721dc711175aa9": {
     "views": []
    },
    "139319e525a14517b8d84a5c792e6e29": {
     "views": []
    },
    "16431f1e06f94037bf4b10926097886b": {
     "views": []
    },
    "174d2aa94c714d03a6704a9d0069e67b": {
     "views": []
    },
    "1d7f53535ee3435bba2ff5018947f6ae": {
     "views": []
    },
    "22becf6463184ddfa5132c5276fd29bf": {
     "views": []
    },
    "23b1c532482a4101ac7c447a195adc86": {
     "views": []
    },
    "24cce2ee6e7342b1bbebd95b0911f1d1": {
     "views": []
    },
    "273b2fadac8f4508b76562e0af3081d5": {
     "views": []
    },
    "2b01a5961eef4cb2912febbeea4081d5": {
     "views": []
    },
    "2c778c5c28a24288bcab05509fdb32c0": {
     "views": []
    },
    "2c85f6719f5246ca86e419bd602220a5": {
     "views": []
    },
    "2ddb515c99e94ecfb0968c16d7bada64": {
     "views": []
    },
    "2df70242d53c40bfa311768e334b9f86": {
     "views": []
    },
    "2fe1559acced4d7f8475bc403dbedeb1": {
     "views": []
    },
    "300f8d40f5c04ffb8d757ea7ced4df69": {
     "views": []
    },
    "343e3818af6d4d5996e790e2f232ae53": {
     "views": []
    },
    "3788268033904d6db47703659f7486df": {
     "views": []
    },
    "39c18a6dfa4042bf875363aa24c9b1e0": {
     "views": []
    },
    "3cc9f6c1fc684ae6ba49be1363fdf965": {
     "views": []
    },
    "3e64e775730c4f25bc13495712f1aef4": {
     "views": []
    },
    "3e88d20629e54dabb6ae43b5a0dbe59f": {
     "views": []
    },
    "4005b2694a8544019bcd39bc54941695": {
     "views": []
    },
    "431967c6d0e24ccf9a0551d732331d02": {
     "views": []
    },
    "44b4528d5249455887d0d0af60e84363": {
     "views": []
    },
    "4527330bdcf340a08a41ef6e38e9b975": {
     "views": []
    },
    "4bdc402756644146bcb8cd4e7c9cf52e": {
     "views": []
    },
    "4d742cfe5137463f85018fba84ae9020": {
     "views": []
    },
    "4dc440e185cd49a08314284a47aa5ba2": {
     "views": []
    },
    "50a95cb5957d4b63880d31b501704841": {
     "views": []
    },
    "50bf93c8d003476598a48f379e27c86d": {
     "views": []
    },
    "53031ca101ad4564adfa17a41fc63039": {
     "views": []
    },
    "5d6caab41e5b409ca83e6538a4fa66d1": {
     "views": []
    },
    "5dc3a022b09c4ea89938534b6f26dfe6": {
     "views": []
    },
    "6026ac7c80bd48a49a28e475ece81ac6": {
     "views": []
    },
    "63ff4da4a92f401d98236cb77f897aa8": {
     "views": []
    },
    "64a4bd18281844ac961d677e2c3baf47": {
     "views": []
    },
    "6537aed18e69481b94386941b144c6e6": {
     "views": []
    },
    "6752b89e170246b5b7d7108a9a1875e8": {
     "views": []
    },
    "69c443b16d8b4d5ba8e5d507d3175ac0": {
     "views": []
    },
    "6b1e5734b3864410a47b3f80aca3232a": {
     "views": []
    },
    "6c61e67a46c04e53be2ff96ab184e340": {
     "views": []
    },
    "71ef0d0cb8984b44a50d60541e37bb15": {
     "views": []
    },
    "735f6b1623364fb6b6b3d8e1d3a3234b": {
     "views": []
    },
    "74972e2f7fff4d52ae29742e2185b3a7": {
     "views": []
    },
    "74ad300a7a9944eebb1d5a2d5d31d563": {
     "views": []
    },
    "7829d03095f54f43a18626c8022f65cb": {
     "views": []
    },
    "787e7e17fb924c9f9bfd45545531b5ff": {
     "views": []
    },
    "7bd7ad6acf494297be59612bbe4c668f": {
     "views": []
    },
    "7dfca0bf9a87406bbffe70de8aed6b7e": {
     "views": []
    },
    "7feeabd9f184492a9b2a96953e80af01": {
     "views": []
    },
    "810f69e841334e45a9577e77d971e474": {
     "views": []
    },
    "817c3ff4ecbd4b2fb341dc55581caf1c": {
     "views": []
    },
    "824bb41af037490186e3e6c51d27064c": {
     "views": []
    },
    "843ef1d448e54517aa8857842a7fb296": {
     "views": []
    },
    "850fed49c8a747a9b0cd93c326ad9f17": {
     "views": []
    },
    "8954a919ff5149c9b21d61707b3fa1d8": {
     "views": []
    },
    "8a1afa49276c40faba4cd3bca1311f14": {
     "views": []
    },
    "8b8f7530796a42398b9bb98331fe30d6": {
     "views": [
      {
       "cell": {
        "cell_type": "code",
        "execution_count": 2,
        "metadata": {
         "collapsed": false,
         "trusted": true
        },
        "outputs": [],
        "source": "survey_map = ll.Map(center=[37.7749, -122.34580993652344], zoom=12, layout=widgets.Layout(height='450px'))\n\nsurvey_data = pd.read_csv('./../analysis_data/scores_by_zipcodes.csv', header=None)\nsurvey_colors = data_to_colors(survey_data.ix[:, 1], colormap=mpl.cm.Greens)\nzips = [str(int(i)) for i in survey_data.ix[:, 0]]\ncols = {}\n\nfor i in range(len(zips)):\n    cols[zips[i]] = survey_colors[i]\n\n# Survey layer\nwith open('./../mapdata/sf_zipcodes.geojson') as f:\n    data = json.load(f)\n\nfor feature in data['features']:\n    feature['properties']['style'] = {\n        'color': cols[feature['id']],\n        'weight': 1,\n        'fillColor': cols[feature['id']],\n        'fillOpacity': 0.65,\n    }\n\nsurvey_layer = ll.GeoJSON(data=data, hover_style={'fillColor': 'red'})\nsurvey_map += survey_layer\n\nwith open('./../mapdata/bayarea_nosf_zipcodes.geojson') as f:\n    bay_data = json.load(f)\n    \n# Grey layer\ngrey_colors = n_colors(len(bay_data['features']), colormap=mpl.cm.Greys)\n\nfor feature, color in zip(bay_data['features'], grey_colors):\n    feature['properties']['style'] = {\n        'color': 'grey',\n        'weight': 1,\n        'fillColor': 'grey',\n        'fillOpacity': 0.2\n    }\n\ngrey_layer = ll.GeoJSON(data=bay_data, hover_style={'fillColor': 'red'})\n\nsurvey_map.add_layer(grey_layer)\n\nsurvey_map"
       },
       "cell_index": 2,
       "root": true
      }
     ]
    },
    "8dce20d686484b699e14e97a8099ebae": {
     "views": []
    },
    "8efcba4ee17347089275d27a756dd90d": {
     "views": []
    },
    "8fd8c26305fb4b93841aa0635a2313f7": {
     "views": []
    },
    "912875afcd5b47ccb879547104e23b4c": {
     "views": []
    },
    "95e9ee8fb20c48b0813d2bb4d08eec49": {
     "views": [
      {
       "cell": {
        "cell_type": "code",
        "execution_count": 3,
        "metadata": {
         "collapsed": false,
         "trusted": true
        },
        "outputs": [],
        "source": "feature_map = ll.Map(center=[37.7749, -122.34580993652344], zoom=12, layout=widgets.Layout(height='450px'))\ntract_data = pd.read_csv('./../data/CensusData/sfo data/tract_data_normalized.csv')\ncolors = data_to_colors(tract_data['pct_bachelors'], colormap=mpl.cm.Reds)\ntracts = [str(int(i)) for i in tract_data.ix[:, 0].values]\n\ncols = {}\nfor i in range(len(tracts)):\n    cols[tracts[i][4:]] = colors[i]\n\nwith open('./../mapdata/sf_tracts.geojson') as f:\n    data = json.load(f)\nfor feature in data['features']:\n    try:\n        style_col = cols[feature['properties']['tractce10']]\n    except KeyError:\n        style_col = 'Grey'\n    feature['properties']['style'] = {\n        'color': style_col,\n        'weight': 1,\n        'fillColor': style_col,\n        'fillOpacity': 0.75,\n    }\n\nfeature_layer = ll.GeoJSON(data=data)\nfeature_map += feature_layer\n\ndata_columns = [\n      'pct_bachelors',\n      'labor_part_rate',\n      'pct_welfare',\n      'low_pov_idx',\n      'labor_idx',\n      'env_health_idx',\n      'hispanic',\n      'white',\n      'black',\n      'american_indian',\n      'asian',\n      'pac_islander',\n      'other_races',\n      'two_races',\n      'housing_cost',\n      'transportation_cost',\n      'pub_school_score',\n      'pr_school_score',\n      'rest_score',\n      'rest_proximity']\n\ndpdown = widgets.Dropdown(options=data_columns, value='pct_bachelors')\n\ndef update_dpdown(change):\n    value = change['new']\n    colors = data_to_colors(tract_data[value], colormap=mpl.cm.Reds)\n    cols = {}\n    for i in range(len(tracts)):\n        cols[tracts[i][4:]] = colors[i]\n    for feature in data['features']:\n        try:\n            style_col = cols[feature['properties']['tractce10']]\n        except KeyError:\n            style_col = 'grey'\n        feature['properties']['style'] = {\n            'color': style_col,\n            'weight': 1,\n            'fillColor': style_col,\n            'fillOpacity': 0.75,\n        }\n        \n    feature_layer = ll.GeoJSON(data=data)\n    \n    feature_map.layers = [feature_map.layers[0], feature_layer]\n    \ndpdown.observe(update_dpdown, names=['value'])\n\nfeature_map.layout.align_self = 'stretch'\ndisplay(widgets.VBox([feature_map, dpdown]))"
       },
       "cell_index": 4,
       "root": true
      }
     ]
    },
    "96bb1bedc03c4ff1a5c264cacf2e6dcb": {
     "views": []
    },
    "97ce7b39cd764e7c96c913b54c451d9b": {
     "views": []
    },
    "98a72bcde88e461a9fcf18498ae1a682": {
     "views": []
    },
    "98dfe58c47d44f3a9d94975d34d9f452": {
     "views": []
    },
    "98fef62e9d22498ebf76a0717616ede9": {
     "views": []
    },
    "9cc6b2c34c0b435f89a2c49d703fff92": {
     "views": []
    },
    "9db79305ed7b4bf48891cfc8018d8b6a": {
     "views": []
    },
    "9e198be7953f4526af1d229d60f609f3": {
     "views": [
      {
       "cell": {
        "cell_type": "code",
        "execution_count": 12,
        "metadata": {
         "collapsed": false,
         "trusted": true
        },
        "outputs": [],
        "source": "ind = 0 \n\nordinal_features_scale = bq.OrdinalScale()\nvalues_features_scale = bq.LinearScale()\nord_axis = bq.Axis(scale=ordinal_features_scale)\nvalue_axis = bq.Axis(scale=values_features_scale, orientation='vertical')\n\npredictors = pd.read_csv('./../analysis_data/predictors_new.csv').set_index('zip code')\nimp_predictors = predictors.loc[:, ('env_health_idx', 'labor_idx', 'housing_cost', 'transportation_cost', 'crime_index',\n                                       'pub_school_score', 'rest_proximity')]\nimp_predictors.columns=['Environment', 'Labor', 'Housing', 'Transport', 'Crime', 'Schools', 'Resta']\ncolumns_reduced = imp_predictors.columns.values\nmean_scores = imp_predictors.mean().values\n\nbars = bq.Bars(x=columns_reduced, y=np.ones(len(columns_reduced)), \n               scales={\n        'x': ordinal_features_scale,\n        'y': values_features_scale\n    }, base=1.0)\n\nscat = bq.Scatter(x=columns_reduced, y=np.ones(len(columns_reduced)),\n                  scales={\n        'x': ordinal_features_scale,\n        'y': values_features_scale\n    }, default_size=128, stroke='black', enable_move=True,\n                 restrict_y=True, update_on_move=True)\n\nindication = bq.Label(x=0.9, y=0.5, text='Hover On Map', font_size='50px', color='gray')\n\nui_map = ll.Map(center=[37.7449, -122.42580993652344], zoom=11, layout=widgets.Layout(width='450px', height='450px'))\nui_map.add_layer(survey_layer)\nui_map.add_layer(grey_layer)\n\n\ndef scores(zip_code):\n    if zip_code in imp_predictors.index:\n        dic = imp_predictors.ix[zip_code].to_dict()\n        return [dic[v] for v in columns_reduced]\n    else:\n        return np.ones(len(columns_reduced))\n\ndef hover_handler(event=None, id=None, properties=None):\n    global ind\n    ind = id\n    figure.marks = [bars, scat]\n    bars.y = scores(int(id)) / mean_scores\n    scat.y = scores(int(id)) / mean_scores\n\nsurvey_layer.on_hover(hover_handler)\n\nfigure = bq.Figure(axes=[value_axis, ord_axis], marks=[bars, scat, indication],\n                   title='Predictors',\n                   animation_duration=500, min_width=300, min_height=500)\n\nwidgets.HBox([ui_map, figure])"
       },
       "cell_index": 17,
       "root": true
      }
     ]
    },
    "9e46c76ca5fd4f619f33e4864dd61bee": {
     "views": []
    },
    "9fa39cf770674ef0b4ee378febde9666": {
     "views": []
    },
    "9fdfeff63d8c40418ec968fcdbb383f5": {
     "views": []
    },
    "a2035db784ec448db6977fa3e5cf1015": {
     "views": []
    },
    "a25474bbfcc146d5809715b38ce4aada": {
     "views": []
    },
    "a33fef301d7e46298e26ef376f8b84cf": {
     "views": []
    },
    "a4a8208950124e21bdaa3f3babc3da26": {
     "views": []
    },
    "a77d5c61752645168081d214eb6dc315": {
     "views": []
    },
    "abd4831ab7064b6883180ede40c1263d": {
     "views": []
    },
    "ac5e7dd804e440c89c0211c74caa2491": {
     "views": []
    },
    "ae9ac53f5ba640ea990be45d01ff3324": {
     "views": []
    },
    "aedff5940f0a457eacf1864b246b2be9": {
     "views": []
    },
    "b050a9a8afc94f958b2d3e4b1dfa6eca": {
     "views": []
    },
    "b07cff000fa24f6f9f5031b0a5cd35d1": {
     "views": []
    },
    "b0a0e6fc30a949eb8d1ced66841fe60c": {
     "views": []
    },
    "b0b1f0bfae6648c3a1fb686ece44895a": {
     "views": []
    },
    "b4a762e6378f421fb6634946ead7b19b": {
     "views": []
    },
    "bb7b90655dc5457685154f0b85a621f9": {
     "views": []
    },
    "bc90921440754040a46977fc0705e473": {
     "views": []
    },
    "bd1ba8a530c44f38bb963a7a6bf1f17a": {
     "views": []
    },
    "be7f788344a74a1bb4485d05d879907f": {
     "views": [
      {
       "cell": {
        "cell_type": "code",
        "execution_count": 11,
        "metadata": {
         "collapsed": false,
         "trusted": true
        },
        "outputs": [],
        "source": "pl.figure(title='Importances of various factors for predicting the Satisfaction of a Neighborhood')\npl.bar(imp_predictors.columns.values.astype(str), imps)\npl.show()"
       },
       "cell_index": 15,
       "root": true
      }
     ]
    },
    "c5d9b86939df49b1833df9037635abda": {
     "views": []
    },
    "c6147cd05edd49a293c542ead373f58d": {
     "views": []
    },
    "c888dac831dc466bad1916d23d8cb9bc": {
     "views": [
      {
       "cell": {
        "cell_type": "code",
        "execution_count": 4,
        "metadata": {
         "collapsed": false,
         "trusted": true
        },
        "outputs": [],
        "source": "ordinal_features_scale = bq.OrdinalScale()\nvalues_features_scale = bq.LinearScale()\nvalue_axis = bq.Axis(scale=values_features_scale, orientation='vertical')\n\nbars = bq.Bars(x=data_columns, y=np.zeros(len(data_columns)), \n               scales={\n        'x': ordinal_features_scale,\n        'y': values_features_scale\n    })\n\nindication = bq.Label(x=0.9, y=0.5, text='Hover On Map', font_size='50px', color='gray')\n\nui_map = ll.Map(center=[37.7449, -122.42580993652344], zoom=11, layout=widgets.Layout(width='450px', height='450px'))\nui_map.add_layer(survey_layer)\nui_map.add_layer(grey_layer)\n\npredictors = pd.read_csv('./../analysis_data/predictors_new.csv').set_index('zip code')\n\ndef scores(zip_code):\n    if zip_code in predictors.index:\n        dic = predictors.ix[zip_code].to_dict()\n        return [dic[v] for v in data_columns]\n    else:\n        return np.zeros(len(data_columns))\n\ndef hover_handler(event=None, id=None, properties=None):\n    figure.marks = [bars]\n    bars.y = scores(int(id))\n\nsurvey_layer.on_hover(hover_handler)\n\nfigure = bq.Figure(axes=[value_axis], marks=[bars, indication],\n                   title='Predictors',\n                   animation_duration=500, min_width=300, min_height=500)\n\n\nwidgets.HBox([ui_map, figure])"
       },
       "cell_index": 6,
       "root": true
      }
     ]
    },
    "c8bcc248ad6748df86408ad0a4518150": {
     "views": []
    },
    "ce891ddd10d34d66a09cd6ead0cb8b4d": {
     "views": []
    },
    "cefaf7212dcf4f28b367ad9704b542b8": {
     "views": []
    },
    "d335658fcf3549019f7486d9aa06429c": {
     "views": []
    },
    "d37e44cfe7fa4364bb1ea932bada4b69": {
     "views": []
    },
    "d7296e58112d4709975a966c32058a76": {
     "views": []
    },
    "d805e2acb2014e21bd379d640fc0e408": {
     "views": []
    },
    "d828c62c8800481780853de526ad6b24": {
     "views": []
    },
    "d8d629755639494cbc0613f622abf20d": {
     "views": []
    },
    "dc6d81b1067f4cbe81d745fdb32f9000": {
     "views": []
    },
    "dffee41c440847fa92ba8409e4bd7d0f": {
     "views": []
    },
    "e1a45c54083f4a2c826b364e06ded717": {
     "views": []
    },
    "e4e605ec5ba04e3bbf7c72fd6e55c589": {
     "views": []
    },
    "e7c80a537fb14a488f0a4ca73cc81c5a": {
     "views": []
    },
    "ea80ae0cc17b481bb6710819b8676cd0": {
     "views": []
    },
    "ea8a3caf32ea4d95a2a7a6fbae5b6504": {
     "views": []
    },
    "eb0e7018f7684cbdb05d4c1c4db22e46": {
     "views": []
    },
    "eb2bd8c0ddc94a64bd286aed09b2ef15": {
     "views": []
    },
    "ec5245e91ee244b48f084411d3eff93f": {
     "views": []
    },
    "ed2b54b2fde24b6bb8004826fbb1a1e4": {
     "views": []
    },
    "ed7a8ca8bac348fea34842d3faa967de": {
     "views": []
    },
    "edd1a6e863ba4260af8cb020f8722f56": {
     "views": []
    },
    "ee7385abf48548069f51582c3563b925": {
     "views": []
    },
    "f1b72bc953ac4a32b98773bfaba35559": {
     "views": [
      {
       "cell": {
        "cell_type": "code",
        "execution_count": 5,
        "metadata": {
         "collapsed": false,
         "trusted": true
        },
        "outputs": [],
        "source": "ordinal_features_scale = bq.OrdinalScale()\nvalues_features_scale = bq.LinearScale()\nord_axis = bq.Axis(scale=ordinal_features_scale)\nvalue_axis = bq.Axis(scale=values_features_scale, orientation='vertical')\n\npredictors = pd.read_csv('./../analysis_data/predictors.csv').set_index('zip code')\nimp_predictors = predictors.loc[:, ('env_health_idx', 'labor_idx', 'housing_cost', 'transportation_cost', 'crime_index',\n                                       'pub_school_score', 'rest_proximity')]\nimp_predictors.columns=['Environment', 'Labor', 'Housing', 'Transport', 'Crime', 'Schools', 'Resta']\ncolumns_reduced = imp_predictors.columns.values\nmean_scores = imp_predictors.mean().values\n\nbars = bq.Bars(x=columns_reduced, y=np.ones(len(columns_reduced)), \n               scales={\n        'x': ordinal_features_scale,\n        'y': values_features_scale\n    }, base=1.0)\n\n\nindication = bq.Label(x=0.9, y=0.5, text='Hover On Map', font_size='50px', color='gray')\n\nui_map = ll.Map(center=[37.7449, -122.42580993652344], zoom=11, layout=widgets.Layout(width='450px', height='450px'))\nui_map.add_layer(survey_layer)\nui_map.add_layer(grey_layer)\n\n\ndef scores(zip_code):\n    if zip_code in imp_predictors.index:\n        dic = imp_predictors.ix[zip_code].to_dict()\n        return [dic[v] for v in columns_reduced]\n    else:\n        return np.ones(len(columns_reduced))\n\ndef hover_handler(event=None, id=None, properties=None):\n    figure.marks = [bars]\n    bars.y = scores(int(id)) / mean_scores\n\nsurvey_layer.on_hover(hover_handler)\n\nfigure = bq.Figure(axes=[value_axis, ord_axis], marks=[bars, indication],\n                   title='Predictors',\n                   animation_duration=500, min_width=300, min_height=500)\n\nwidgets.HBox([ui_map, figure])"
       },
       "cell_index": 8,
       "root": true
      }
     ]
    },
    "f25e440fcf16440b854edd8119487823": {
     "views": []
    },
    "f435abc6de244161b6fda6539695029b": {
     "views": []
    },
    "f44adff8614443d5a41604d698e0f343": {
     "views": []
    },
    "f5802b19595b42aa8e3bc9357d9d1043": {
     "views": []
    },
    "f6693201fbfa418499b206715922d531": {
     "views": []
    },
    "fba035ded41b41139ef42a7ddfa64b21": {
     "views": []
    },
    "fc19e5b3380e4282b5adedb8f26f85e9": {
     "views": []
    },
    "fe390493dce24b3d87d97ddba4a531f8": {
     "views": []
    },
    "fe9e9a3cabc948d1abe7c30e03ef5c2e": {
     "views": []
    },
    "ff43edbf37704e5f879bb7ed6743b297": {
     "views": []
    }
   },
   "version": "1.0.0"
  }
 },
 "nbformat": 4,
 "nbformat_minor": 1
}
