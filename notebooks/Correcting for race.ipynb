{
 "cells": [
  {
   "cell_type": "code",
   "execution_count": 33,
   "metadata": {
    "collapsed": true
   },
   "outputs": [],
   "source": [
    "from __future__ import print_function\n",
    "\n",
    "# Jupyter display\n",
    "from IPython.display import display\n",
    "\n",
    "# json\n",
    "import json\n",
    "\n",
    "# widgets\n",
    "import ipywidgets as widgets\n",
    "import bqplot as bq\n",
    "import ipyleaflet as ll\n",
    "\n",
    "# numerics\n",
    "import pandas as pd\n",
    "import numpy as np\n",
    "from sklearn import linear_model\n",
    "\n",
    "# colormap\n",
    "import matplotlib as mpl\n",
    "import matplotlib.cm\n",
    "import matplotlib.colors\n",
    "\n",
    "def n_colors(n, colormap=mpl.cm.Blues):\n",
    "    data = np.linspace(0.0,1.0,n)\n",
    "    c = [mpl.colors.rgb2hex(d[0:3]) for d in colormap(data)]\n",
    "    return c\n",
    "\n",
    "def data_to_colors(data, colormap=mpl.cm.plasma):\n",
    "    c = [mpl.colors.rgb2hex(d[0:3]) for d in colormap(mpl.colors.Normalize()(data))]\n",
    "    return c"
   ]
  },
  {
   "cell_type": "code",
   "execution_count": 34,
   "metadata": {
    "collapsed": false
   },
   "outputs": [],
   "source": [
    "data = pd.read_csv('./../analysis_data/merged_data.csv')"
   ]
  },
  {
   "cell_type": "code",
   "execution_count": 35,
   "metadata": {
    "collapsed": false
   },
   "outputs": [],
   "source": [
    "race_data = data[['hispanic', 'white',\n",
    "       'black', 'american_indian', 'asian', 'pac_islander', 'other_races', 'two_races']]"
   ]
  },
  {
   "cell_type": "code",
   "execution_count": 36,
   "metadata": {
    "collapsed": false
   },
   "outputs": [],
   "source": [
    "race_data = race_data / 100."
   ]
  },
  {
   "cell_type": "code",
   "execution_count": 37,
   "metadata": {
    "collapsed": false
   },
   "outputs": [],
   "source": [
    "result = data['scores']"
   ]
  },
  {
   "cell_type": "code",
   "execution_count": 38,
   "metadata": {
    "collapsed": true
   },
   "outputs": [],
   "source": [
    "clf = linear_model.LinearRegression(fit_intercept=False)"
   ]
  },
  {
   "cell_type": "code",
   "execution_count": 39,
   "metadata": {
    "collapsed": false
   },
   "outputs": [
    {
     "data": {
      "text/plain": [
       "LinearRegression(copy_X=True, fit_intercept=False, n_jobs=1, normalize=False)"
      ]
     },
     "execution_count": 39,
     "metadata": {},
     "output_type": "execute_result"
    }
   ],
   "source": [
    "clf.fit(race_data.values, result.values)"
   ]
  },
  {
   "cell_type": "code",
   "execution_count": 40,
   "metadata": {
    "collapsed": false
   },
   "outputs": [
    {
     "data": {
      "text/plain": [
       "array([  8.38530429,   7.07632008,   6.57851644, -10.04788056,\n",
       "        10.01388699, -11.73590829, -13.13261219,  23.85508512])"
      ]
     },
     "execution_count": 40,
     "metadata": {},
     "output_type": "execute_result"
    }
   ],
   "source": [
    "clf.coef_"
   ]
  },
  {
   "cell_type": "code",
   "execution_count": 41,
   "metadata": {
    "collapsed": false,
    "scrolled": true
   },
   "outputs": [
    {
     "data": {
      "text/plain": [
       "0.0"
      ]
     },
     "execution_count": 41,
     "metadata": {},
     "output_type": "execute_result"
    }
   ],
   "source": [
    "clf.intercept_"
   ]
  },
  {
   "cell_type": "code",
   "execution_count": 42,
   "metadata": {
    "collapsed": false
   },
   "outputs": [],
   "source": [
    "race_corrected_scores = result.values - clf.predict(race_data.values)"
   ]
  },
  {
   "cell_type": "code",
   "execution_count": 43,
   "metadata": {
    "collapsed": false
   },
   "outputs": [
    {
     "data": {
      "text/plain": [
       "array([-0.15206205, -0.69064013, -0.18027085, -0.01330223,  0.85258752,\n",
       "       -0.39227153,  0.83194795,  0.11443674, -0.15922666,  0.09216956,\n",
       "        0.06545359,  0.26315672,  0.28330485, -0.78189684, -0.41183177,\n",
       "       -0.22440185, -0.11750368,  0.18533339, -0.17559896,  1.12529616,\n",
       "       -0.73934585,  0.1966144 ,  0.77054475, -0.23835278, -0.50595404])"
      ]
     },
     "execution_count": 43,
     "metadata": {},
     "output_type": "execute_result"
    }
   ],
   "source": [
    "race_corrected_scores"
   ]
  },
  {
   "cell_type": "code",
   "execution_count": 44,
   "metadata": {
    "collapsed": true
   },
   "outputs": [],
   "source": [
    "race_corrected_data = data.copy(deep=True)"
   ]
  },
  {
   "cell_type": "code",
   "execution_count": 45,
   "metadata": {
    "collapsed": false
   },
   "outputs": [],
   "source": [
    "race_corrected_data.rename(columns={'Unnamed: 0': 'zipcode'}, inplace=True)"
   ]
  },
  {
   "cell_type": "code",
   "execution_count": 46,
   "metadata": {
    "collapsed": false
   },
   "outputs": [],
   "source": [
    "race_corrected_data['scores'] = race_corrected_scores"
   ]
  },
  {
   "cell_type": "code",
   "execution_count": 47,
   "metadata": {
    "collapsed": true
   },
   "outputs": [],
   "source": [
    "race_corrected_data.to_csv('./../analysis_data/race_corrected_merged_data.csv')"
   ]
  },
  {
   "cell_type": "code",
   "execution_count": 48,
   "metadata": {
    "collapsed": false,
    "scrolled": false
   },
   "outputs": [
    {
     "data": {
      "text/plain": [
       "zipcode               -0.051254\n",
       "pct_bachelors         -0.029507\n",
       "labor_part_rate        0.183081\n",
       "pct_welfare            0.309800\n",
       "low_pov_idx           -0.079242\n",
       "labor_idx             -0.048025\n",
       "env_health_idx        -0.029866\n",
       "hispanic               0.000236\n",
       "white                  0.000383\n",
       "black                  0.000134\n",
       "american_indian        0.000118\n",
       "asian                  0.000279\n",
       "pac_islander           0.000200\n",
       "other_races            0.000171\n",
       "two_races              0.000394\n",
       "housing_cost          -0.398101\n",
       "transportation_cost   -0.074752\n",
       "pub_school_score       0.095970\n",
       "pr_school_score       -0.137316\n",
       "rest_score            -0.019227\n",
       "rest_proximity         0.125377\n",
       "crime_index            0.017814\n",
       "scores                 1.000000\n",
       "Name: scores, dtype: float64"
      ]
     },
     "execution_count": 48,
     "metadata": {},
     "output_type": "execute_result"
    }
   ],
   "source": [
    "race_corrected_data.corr().ix[:, -1]"
   ]
  },
  {
   "cell_type": "markdown",
   "metadata": {},
   "source": [
    "## TEST"
   ]
  },
  {
   "cell_type": "code",
   "execution_count": 49,
   "metadata": {
    "collapsed": true
   },
   "outputs": [],
   "source": [
    "other_race_data = data[['hispanic',\n",
    "       'black', 'american_indian', 'asian', 'pac_islander', 'other_races', 'two_races']]\n",
    "white_data = data[['white']]"
   ]
  },
  {
   "cell_type": "code",
   "execution_count": 50,
   "metadata": {
    "collapsed": true
   },
   "outputs": [],
   "source": [
    "other_race_data = other_race_data / 100.\n",
    "white_data = white_data / 100."
   ]
  },
  {
   "cell_type": "code",
   "execution_count": 51,
   "metadata": {
    "collapsed": true
   },
   "outputs": [],
   "source": [
    "other_races = other_race_data.sum(axis=1)"
   ]
  },
  {
   "cell_type": "code",
   "execution_count": 52,
   "metadata": {
    "collapsed": true
   },
   "outputs": [],
   "source": [
    "clf2 = linear_model.LinearRegression(fit_intercept=False)"
   ]
  },
  {
   "cell_type": "code",
   "execution_count": 53,
   "metadata": {
    "collapsed": false
   },
   "outputs": [
    {
     "data": {
      "text/plain": [
       "LinearRegression(copy_X=True, fit_intercept=False, n_jobs=1, normalize=False)"
      ]
     },
     "execution_count": 53,
     "metadata": {},
     "output_type": "execute_result"
    }
   ],
   "source": [
    "clf.fit(np.array([other_races.values, white_data.values.flatten()]).T, result.values)"
   ]
  },
  {
   "cell_type": "code",
   "execution_count": 54,
   "metadata": {
    "collapsed": true
   },
   "outputs": [],
   "source": [
    "other_race_corrected_scores = result.values - \\\n",
    "            clf.predict(np.array([other_races.values, white_data.values.flatten()]).T)"
   ]
  },
  {
   "cell_type": "code",
   "execution_count": 55,
   "metadata": {
    "collapsed": false
   },
   "outputs": [
    {
     "data": {
      "text/plain": [
       "array([-0.06332415, -1.05569744, -0.19960916, -0.29655952,  1.04413036,\n",
       "       -0.34040153,  0.68306015, -0.09680889, -0.20574277,  0.03293298,\n",
       "       -0.04815607,  0.56006077,  0.15608298, -0.48197786, -0.01794342,\n",
       "        0.29164753, -0.33325534, -0.57185198,  0.04038037,  1.2511415 ,\n",
       "       -0.63963772,  0.30781934,  0.97989203, -0.20567224, -0.79203941])"
      ]
     },
     "execution_count": 55,
     "metadata": {},
     "output_type": "execute_result"
    }
   ],
   "source": [
    "other_race_corrected_scores"
   ]
  },
  {
   "cell_type": "code",
   "execution_count": 56,
   "metadata": {
    "collapsed": true
   },
   "outputs": [],
   "source": [
    "other_race_corrected_data = data.copy(deep=True)"
   ]
  },
  {
   "cell_type": "code",
   "execution_count": 57,
   "metadata": {
    "collapsed": false
   },
   "outputs": [],
   "source": [
    "other_race_corrected_data.rename(columns={'Unnamed: 0': 'zipcode'}, inplace=True)"
   ]
  },
  {
   "cell_type": "code",
   "execution_count": 58,
   "metadata": {
    "collapsed": true
   },
   "outputs": [],
   "source": [
    "other_race_corrected_data['scores'] = other_race_corrected_scores"
   ]
  },
  {
   "cell_type": "code",
   "execution_count": 59,
   "metadata": {
    "collapsed": false,
    "scrolled": true
   },
   "outputs": [
    {
     "data": {
      "text/plain": [
       "zipcode               -0.051254\n",
       "pct_bachelors         -0.029507\n",
       "labor_part_rate        0.183081\n",
       "pct_welfare            0.309800\n",
       "low_pov_idx           -0.079242\n",
       "labor_idx             -0.048025\n",
       "env_health_idx        -0.029866\n",
       "hispanic               0.000236\n",
       "white                  0.000383\n",
       "black                  0.000134\n",
       "american_indian        0.000118\n",
       "asian                  0.000279\n",
       "pac_islander           0.000200\n",
       "other_races            0.000171\n",
       "two_races              0.000394\n",
       "housing_cost          -0.398101\n",
       "transportation_cost   -0.074752\n",
       "pub_school_score       0.095970\n",
       "pr_school_score       -0.137316\n",
       "rest_score            -0.019227\n",
       "rest_proximity         0.125377\n",
       "crime_index            0.017814\n",
       "scores                 1.000000\n",
       "Name: scores, dtype: float64"
      ]
     },
     "execution_count": 59,
     "metadata": {},
     "output_type": "execute_result"
    }
   ],
   "source": [
    "race_corrected_data.corr().ix[:, -1]"
   ]
  },
  {
   "cell_type": "code",
   "execution_count": 60,
   "metadata": {
    "collapsed": false,
    "scrolled": true
   },
   "outputs": [
    {
     "data": {
      "text/plain": [
       "zipcode               -0.021021\n",
       "pct_bachelors         -0.011672\n",
       "labor_part_rate        0.157599\n",
       "pct_welfare            0.206008\n",
       "low_pov_idx            0.021240\n",
       "labor_idx              0.033953\n",
       "env_health_idx         0.293346\n",
       "hispanic              -0.220006\n",
       "white                  0.000283\n",
       "black                 -0.313187\n",
       "american_indian       -0.081527\n",
       "asian                  0.233603\n",
       "pac_islander          -0.087019\n",
       "other_races            0.009843\n",
       "two_races              0.120511\n",
       "housing_cost          -0.392875\n",
       "transportation_cost   -0.030125\n",
       "pub_school_score       0.042849\n",
       "pr_school_score       -0.077970\n",
       "rest_score            -0.380957\n",
       "rest_proximity         0.095538\n",
       "crime_index           -0.029469\n",
       "scores                 1.000000\n",
       "Name: scores, dtype: float64"
      ]
     },
     "execution_count": 60,
     "metadata": {},
     "output_type": "execute_result"
    }
   ],
   "source": [
    "other_race_corrected_data.corr().ix[:, -1]"
   ]
  },
  {
   "cell_type": "code",
   "execution_count": 61,
   "metadata": {
    "collapsed": true
   },
   "outputs": [],
   "source": [
    "other_race_corrected_data.to_csv('./../analysis_data/other_race_corrected_merged_data.csv')"
   ]
  },
  {
   "cell_type": "code",
   "execution_count": null,
   "metadata": {
    "collapsed": true
   },
   "outputs": [],
   "source": []
  }
 ],
 "metadata": {
  "kernelspec": {
   "display_name": "Python 2",
   "language": "python",
   "name": "python2"
  },
  "language_info": {
   "codemirror_mode": {
    "name": "ipython",
    "version": 2
   },
   "file_extension": ".py",
   "mimetype": "text/x-python",
   "name": "python",
   "nbconvert_exporter": "python",
   "pygments_lexer": "ipython2",
   "version": "2.7.11"
  },
  "widgets": {
   "state": {},
   "version": "1.0.0"
  }
 },
 "nbformat": 4,
 "nbformat_minor": 1
}
